{
 "cells": [
  {
   "cell_type": "code",
   "execution_count": null,
   "id": "bdea3859",
   "metadata": {},
   "outputs": [],
   "source": [
    "import pandas as pd\n",
    "import numpy as np\n",
    "import seaborn as sns\n",
    "import matplotlib.pyplot as plt\n",
    "from sklearn.datasets import load_iris\n",
    "from sklearn.preprocessing import LabelEncoder\n",
    "from scipy.stats import zscore,chi2_contingency,chi2\n",
    "from sklearn.metrics import accuracy_score,recall_score,f1_score,precision_score\n",
    "from sklearn.metrics import roc_curve,auc\n",
    "from sklearn.metrics import roc_auc_score\n",
    "import sklearn.metrics as metrics\n",
    "from sklearn.metrics import confusion_matrix"
   ]
  },
  {
   "cell_type": "code",
   "execution_count": 2,
   "id": "bb3d1f45",
   "metadata": {},
   "outputs": [],
   "source": [
    "of=pd.read_csv(r'‪‪C:\\Users\\Sriram\\Desktop\\data_set.csv')"
   ]
  },
  {
   "cell_type": "code",
   "execution_count": 3,
   "id": "030cea15",
   "metadata": {},
   "outputs": [
    {
     "data": {
      "text/html": [
       "<div>\n",
       "<style scoped>\n",
       "    .dataframe tbody tr th:only-of-type {\n",
       "        vertical-align: middle;\n",
       "    }\n",
       "\n",
       "    .dataframe tbody tr th {\n",
       "        vertical-align: top;\n",
       "    }\n",
       "\n",
       "    .dataframe thead th {\n",
       "        text-align: right;\n",
       "    }\n",
       "</style>\n",
       "<table border=\"1\" class=\"dataframe\">\n",
       "  <thead>\n",
       "    <tr style=\"text-align: right;\">\n",
       "      <th></th>\n",
       "      <th>age</th>\n",
       "      <th>job</th>\n",
       "      <th>marital</th>\n",
       "      <th>education</th>\n",
       "      <th>default</th>\n",
       "      <th>housing</th>\n",
       "      <th>loan</th>\n",
       "      <th>contact</th>\n",
       "      <th>month</th>\n",
       "      <th>day_of_week</th>\n",
       "      <th>...</th>\n",
       "      <th>campaign</th>\n",
       "      <th>pdays</th>\n",
       "      <th>previous</th>\n",
       "      <th>poutcome</th>\n",
       "      <th>emp.var.rate</th>\n",
       "      <th>cons.price.idx</th>\n",
       "      <th>cons.conf.idx</th>\n",
       "      <th>euribor3m</th>\n",
       "      <th>nr.employed</th>\n",
       "      <th>y</th>\n",
       "    </tr>\n",
       "  </thead>\n",
       "  <tbody>\n",
       "    <tr>\n",
       "      <th>0</th>\n",
       "      <td>56</td>\n",
       "      <td>housemaid</td>\n",
       "      <td>married</td>\n",
       "      <td>basic.4y</td>\n",
       "      <td>no</td>\n",
       "      <td>no</td>\n",
       "      <td>no</td>\n",
       "      <td>telephone</td>\n",
       "      <td>may</td>\n",
       "      <td>mon</td>\n",
       "      <td>...</td>\n",
       "      <td>1</td>\n",
       "      <td>999</td>\n",
       "      <td>0</td>\n",
       "      <td>nonexistent</td>\n",
       "      <td>1.1</td>\n",
       "      <td>93.994</td>\n",
       "      <td>-36.4</td>\n",
       "      <td>4.857</td>\n",
       "      <td>5191</td>\n",
       "      <td>no</td>\n",
       "    </tr>\n",
       "    <tr>\n",
       "      <th>1</th>\n",
       "      <td>57</td>\n",
       "      <td>services</td>\n",
       "      <td>married</td>\n",
       "      <td>high.school</td>\n",
       "      <td>unknown</td>\n",
       "      <td>no</td>\n",
       "      <td>no</td>\n",
       "      <td>telephone</td>\n",
       "      <td>may</td>\n",
       "      <td>mon</td>\n",
       "      <td>...</td>\n",
       "      <td>1</td>\n",
       "      <td>999</td>\n",
       "      <td>0</td>\n",
       "      <td>nonexistent</td>\n",
       "      <td>1.1</td>\n",
       "      <td>93.994</td>\n",
       "      <td>-36.4</td>\n",
       "      <td>4.857</td>\n",
       "      <td>5191</td>\n",
       "      <td>no</td>\n",
       "    </tr>\n",
       "    <tr>\n",
       "      <th>2</th>\n",
       "      <td>37</td>\n",
       "      <td>services</td>\n",
       "      <td>married</td>\n",
       "      <td>high.school</td>\n",
       "      <td>no</td>\n",
       "      <td>yes</td>\n",
       "      <td>no</td>\n",
       "      <td>telephone</td>\n",
       "      <td>may</td>\n",
       "      <td>mon</td>\n",
       "      <td>...</td>\n",
       "      <td>1</td>\n",
       "      <td>999</td>\n",
       "      <td>0</td>\n",
       "      <td>nonexistent</td>\n",
       "      <td>1.1</td>\n",
       "      <td>93.994</td>\n",
       "      <td>-36.4</td>\n",
       "      <td>4.857</td>\n",
       "      <td>5191</td>\n",
       "      <td>no</td>\n",
       "    </tr>\n",
       "    <tr>\n",
       "      <th>3</th>\n",
       "      <td>40</td>\n",
       "      <td>admin.</td>\n",
       "      <td>married</td>\n",
       "      <td>basic.6y</td>\n",
       "      <td>no</td>\n",
       "      <td>no</td>\n",
       "      <td>no</td>\n",
       "      <td>telephone</td>\n",
       "      <td>may</td>\n",
       "      <td>mon</td>\n",
       "      <td>...</td>\n",
       "      <td>1</td>\n",
       "      <td>999</td>\n",
       "      <td>0</td>\n",
       "      <td>nonexistent</td>\n",
       "      <td>1.1</td>\n",
       "      <td>93.994</td>\n",
       "      <td>-36.4</td>\n",
       "      <td>4.857</td>\n",
       "      <td>5191</td>\n",
       "      <td>no</td>\n",
       "    </tr>\n",
       "    <tr>\n",
       "      <th>4</th>\n",
       "      <td>56</td>\n",
       "      <td>services</td>\n",
       "      <td>married</td>\n",
       "      <td>high.school</td>\n",
       "      <td>no</td>\n",
       "      <td>no</td>\n",
       "      <td>yes</td>\n",
       "      <td>telephone</td>\n",
       "      <td>may</td>\n",
       "      <td>mon</td>\n",
       "      <td>...</td>\n",
       "      <td>1</td>\n",
       "      <td>999</td>\n",
       "      <td>0</td>\n",
       "      <td>nonexistent</td>\n",
       "      <td>1.1</td>\n",
       "      <td>93.994</td>\n",
       "      <td>-36.4</td>\n",
       "      <td>4.857</td>\n",
       "      <td>5191</td>\n",
       "      <td>no</td>\n",
       "    </tr>\n",
       "    <tr>\n",
       "      <th>...</th>\n",
       "      <td>...</td>\n",
       "      <td>...</td>\n",
       "      <td>...</td>\n",
       "      <td>...</td>\n",
       "      <td>...</td>\n",
       "      <td>...</td>\n",
       "      <td>...</td>\n",
       "      <td>...</td>\n",
       "      <td>...</td>\n",
       "      <td>...</td>\n",
       "      <td>...</td>\n",
       "      <td>...</td>\n",
       "      <td>...</td>\n",
       "      <td>...</td>\n",
       "      <td>...</td>\n",
       "      <td>...</td>\n",
       "      <td>...</td>\n",
       "      <td>...</td>\n",
       "      <td>...</td>\n",
       "      <td>...</td>\n",
       "      <td>...</td>\n",
       "    </tr>\n",
       "    <tr>\n",
       "      <th>41183</th>\n",
       "      <td>73</td>\n",
       "      <td>retired</td>\n",
       "      <td>married</td>\n",
       "      <td>professional.course</td>\n",
       "      <td>no</td>\n",
       "      <td>yes</td>\n",
       "      <td>no</td>\n",
       "      <td>cellular</td>\n",
       "      <td>nov</td>\n",
       "      <td>fri</td>\n",
       "      <td>...</td>\n",
       "      <td>1</td>\n",
       "      <td>999</td>\n",
       "      <td>0</td>\n",
       "      <td>nonexistent</td>\n",
       "      <td>-1.1</td>\n",
       "      <td>94.767</td>\n",
       "      <td>-50.8</td>\n",
       "      <td>1.028</td>\n",
       "      <td>4964</td>\n",
       "      <td>yes</td>\n",
       "    </tr>\n",
       "    <tr>\n",
       "      <th>41184</th>\n",
       "      <td>46</td>\n",
       "      <td>blue-collar</td>\n",
       "      <td>married</td>\n",
       "      <td>professional.course</td>\n",
       "      <td>no</td>\n",
       "      <td>no</td>\n",
       "      <td>no</td>\n",
       "      <td>cellular</td>\n",
       "      <td>nov</td>\n",
       "      <td>fri</td>\n",
       "      <td>...</td>\n",
       "      <td>1</td>\n",
       "      <td>999</td>\n",
       "      <td>0</td>\n",
       "      <td>nonexistent</td>\n",
       "      <td>-1.1</td>\n",
       "      <td>94.767</td>\n",
       "      <td>-50.8</td>\n",
       "      <td>1.028</td>\n",
       "      <td>4964</td>\n",
       "      <td>no</td>\n",
       "    </tr>\n",
       "    <tr>\n",
       "      <th>41185</th>\n",
       "      <td>56</td>\n",
       "      <td>retired</td>\n",
       "      <td>married</td>\n",
       "      <td>university.degree</td>\n",
       "      <td>no</td>\n",
       "      <td>yes</td>\n",
       "      <td>no</td>\n",
       "      <td>cellular</td>\n",
       "      <td>nov</td>\n",
       "      <td>fri</td>\n",
       "      <td>...</td>\n",
       "      <td>2</td>\n",
       "      <td>999</td>\n",
       "      <td>0</td>\n",
       "      <td>nonexistent</td>\n",
       "      <td>-1.1</td>\n",
       "      <td>94.767</td>\n",
       "      <td>-50.8</td>\n",
       "      <td>1.028</td>\n",
       "      <td>4964</td>\n",
       "      <td>no</td>\n",
       "    </tr>\n",
       "    <tr>\n",
       "      <th>41186</th>\n",
       "      <td>44</td>\n",
       "      <td>technician</td>\n",
       "      <td>married</td>\n",
       "      <td>professional.course</td>\n",
       "      <td>no</td>\n",
       "      <td>no</td>\n",
       "      <td>no</td>\n",
       "      <td>cellular</td>\n",
       "      <td>nov</td>\n",
       "      <td>fri</td>\n",
       "      <td>...</td>\n",
       "      <td>1</td>\n",
       "      <td>999</td>\n",
       "      <td>0</td>\n",
       "      <td>nonexistent</td>\n",
       "      <td>-1.1</td>\n",
       "      <td>94.767</td>\n",
       "      <td>-50.8</td>\n",
       "      <td>1.028</td>\n",
       "      <td>4964</td>\n",
       "      <td>yes</td>\n",
       "    </tr>\n",
       "    <tr>\n",
       "      <th>41187</th>\n",
       "      <td>74</td>\n",
       "      <td>retired</td>\n",
       "      <td>married</td>\n",
       "      <td>professional.course</td>\n",
       "      <td>no</td>\n",
       "      <td>yes</td>\n",
       "      <td>no</td>\n",
       "      <td>cellular</td>\n",
       "      <td>nov</td>\n",
       "      <td>fri</td>\n",
       "      <td>...</td>\n",
       "      <td>3</td>\n",
       "      <td>999</td>\n",
       "      <td>1</td>\n",
       "      <td>failure</td>\n",
       "      <td>-1.1</td>\n",
       "      <td>94.767</td>\n",
       "      <td>-50.8</td>\n",
       "      <td>1.028</td>\n",
       "      <td>4964</td>\n",
       "      <td>no</td>\n",
       "    </tr>\n",
       "  </tbody>\n",
       "</table>\n",
       "<p>41188 rows × 21 columns</p>\n",
       "</div>"
      ],
      "text/plain": [
       "       age          job  marital            education  default housing loan  \\\n",
       "0       56    housemaid  married             basic.4y       no      no   no   \n",
       "1       57     services  married          high.school  unknown      no   no   \n",
       "2       37     services  married          high.school       no     yes   no   \n",
       "3       40       admin.  married             basic.6y       no      no   no   \n",
       "4       56     services  married          high.school       no      no  yes   \n",
       "...    ...          ...      ...                  ...      ...     ...  ...   \n",
       "41183   73      retired  married  professional.course       no     yes   no   \n",
       "41184   46  blue-collar  married  professional.course       no      no   no   \n",
       "41185   56      retired  married    university.degree       no     yes   no   \n",
       "41186   44   technician  married  professional.course       no      no   no   \n",
       "41187   74      retired  married  professional.course       no     yes   no   \n",
       "\n",
       "         contact month day_of_week  ...  campaign  pdays  previous  \\\n",
       "0      telephone   may         mon  ...         1    999         0   \n",
       "1      telephone   may         mon  ...         1    999         0   \n",
       "2      telephone   may         mon  ...         1    999         0   \n",
       "3      telephone   may         mon  ...         1    999         0   \n",
       "4      telephone   may         mon  ...         1    999         0   \n",
       "...          ...   ...         ...  ...       ...    ...       ...   \n",
       "41183   cellular   nov         fri  ...         1    999         0   \n",
       "41184   cellular   nov         fri  ...         1    999         0   \n",
       "41185   cellular   nov         fri  ...         2    999         0   \n",
       "41186   cellular   nov         fri  ...         1    999         0   \n",
       "41187   cellular   nov         fri  ...         3    999         1   \n",
       "\n",
       "          poutcome emp.var.rate  cons.price.idx  cons.conf.idx  euribor3m  \\\n",
       "0      nonexistent          1.1          93.994          -36.4      4.857   \n",
       "1      nonexistent          1.1          93.994          -36.4      4.857   \n",
       "2      nonexistent          1.1          93.994          -36.4      4.857   \n",
       "3      nonexistent          1.1          93.994          -36.4      4.857   \n",
       "4      nonexistent          1.1          93.994          -36.4      4.857   \n",
       "...            ...          ...             ...            ...        ...   \n",
       "41183  nonexistent         -1.1          94.767          -50.8      1.028   \n",
       "41184  nonexistent         -1.1          94.767          -50.8      1.028   \n",
       "41185  nonexistent         -1.1          94.767          -50.8      1.028   \n",
       "41186  nonexistent         -1.1          94.767          -50.8      1.028   \n",
       "41187      failure         -1.1          94.767          -50.8      1.028   \n",
       "\n",
       "       nr.employed    y  \n",
       "0             5191   no  \n",
       "1             5191   no  \n",
       "2             5191   no  \n",
       "3             5191   no  \n",
       "4             5191   no  \n",
       "...            ...  ...  \n",
       "41183         4964  yes  \n",
       "41184         4964   no  \n",
       "41185         4964   no  \n",
       "41186         4964  yes  \n",
       "41187         4964   no  \n",
       "\n",
       "[41188 rows x 21 columns]"
      ]
     },
     "execution_count": 3,
     "metadata": {},
     "output_type": "execute_result"
    }
   ],
   "source": [
    "bank_add"
   ]
  },
  {
   "cell_type": "raw",
   "id": "bff34edc",
   "metadata": {},
   "source": [
    "1 - age (numeric)\n",
    "2 - job : type of job (categorical: 'admin.','blue-collar','entrepreneur','housemaid','management','retired','self-employed','services','student','technician','unemployed','unknown')\n",
    "3 - marital : marital status (categorical: 'divorced','married','single','unknown'; note: 'divorced' means divorced or widowed)\n",
    "4 - education (categorical:basic.4y','basic.6y','basic.9y','high.school','illiterate','professional.course','university.degree','unknown')\n",
    "5 - default: has credit in default? (categorical: 'no','yes','unknown')\n",
    "6 - housing: has housing loan? (categorical: 'no','yes','unknown')\n",
    "7 - loan: has personal loan? (categorical: 'no','yes','unknown')\n",
    "# related with the last contact of the current campaign:\n",
    "8 - contact: contact communication type (categorical: 'cellular','telephone')\n",
    "9 - month: last contact month of year (categorical: 'jan', 'feb', 'mar', ..., 'nov', 'dec')\n",
    "10 - day_of_week: last contact day of the week (categorical: 'mon','tue','wed','thu','fri')\n",
    "11 - duration: last contact duration, in seconds (numeric). Important note: this attribute highly affects the output target (e.g., if duration=0 then y='no'). Yet, the duration is not known before a call is performed. Also, after the end of the call y is obviously known. Thus, this input should only be included for benchmark purposes and should be discarded if the intention is to have a realistic predictive model.\n",
    "# other attributes:\n",
    "12 - campaign: number of contacts performed during this campaign and for this client (numeric, includes last contact)\n",
    "13 - pdays: number of days that passed by after the client was last contacted from a previous campaign (numeric; 999 means client was not previously contacted)\n",
    "14 - previous: number of contacts performed before this campaign and for this client (numeric)\n",
    "15 - poutcome: outcome of the previous marketing campaign (categorical: 'failure','nonexistent','success')\n",
    "# social and economic context attributes\n",
    "16 - emp.var.rate: employment variation rate - quarterly indicator (numeric)\n",
    "17 - cons.price.idx: consumer price index - monthly indicator (numeric)\n",
    "18 - cons.conf.idx: consumer confidence index - monthly indicator (numeric)\n",
    "19 - euribor3m: euribor 3 month rate - daily indicator (numeric)\n",
    "20 - nr.employed: number of employees - quarterly indicator (numeric)\n",
    "21 - y - has the client subscribed a term deposit? (binary: 'yes','no')"
   ]
  },
  {
   "cell_type": "code",
   "execution_count": 4,
   "id": "497b3f02",
   "metadata": {},
   "outputs": [
    {
     "data": {
      "text/plain": [
       "(41188, 21)"
      ]
     },
     "execution_count": 4,
     "metadata": {},
     "output_type": "execute_result"
    }
   ],
   "source": [
    "bank_add.shape"
   ]
  },
  {
   "cell_type": "code",
   "execution_count": 5,
   "id": "0eab9aa6",
   "metadata": {},
   "outputs": [
    {
     "data": {
      "text/plain": [
       "Index(['age', 'job', 'marital', 'education', 'default', 'housing', 'loan',\n",
       "       'contact', 'month', 'day_of_week', 'duration', 'campaign', 'pdays',\n",
       "       'previous', 'poutcome', 'emp.var.rate', 'cons.price.idx',\n",
       "       'cons.conf.idx', 'euribor3m', 'nr.employed', 'y'],\n",
       "      dtype='object')"
      ]
     },
     "execution_count": 5,
     "metadata": {},
     "output_type": "execute_result"
    }
   ],
   "source": [
    "bank_add.columns"
   ]
  },
  {
   "cell_type": "code",
   "execution_count": 6,
   "id": "12e31a16",
   "metadata": {},
   "outputs": [
    {
     "data": {
      "text/plain": [
       "['job',\n",
       " 'marital',\n",
       " 'education',\n",
       " 'default',\n",
       " 'housing',\n",
       " 'loan',\n",
       " 'contact',\n",
       " 'month',\n",
       " 'day_of_week',\n",
       " 'poutcome',\n",
       " 'y']"
      ]
     },
     "execution_count": 6,
     "metadata": {},
     "output_type": "execute_result"
    }
   ],
   "source": [
    "cat=['job','marital','education','default','housing','loan','contact','month','day_of_week','poutcome','y']\n",
    "cat"
   ]
  },
  {
   "cell_type": "code",
   "execution_count": 7,
   "id": "0457814b",
   "metadata": {},
   "outputs": [
    {
     "data": {
      "text/plain": [
       "['age',\n",
       " 'duration',\n",
       " 'campaign',\n",
       " 'pdays',\n",
       " 'previous',\n",
       " 'emp.var.rate',\n",
       " 'cons.price.idx',\n",
       " 'cons.conf.idx',\n",
       " 'euribor3m',\n",
       " 'nr.employed']"
      ]
     },
     "execution_count": 7,
     "metadata": {},
     "output_type": "execute_result"
    }
   ],
   "source": [
    "num=['age','duration','campaign','pdays','previous','emp.var.rate','cons.price.idx','cons.conf.idx','euribor3m','nr.employed']\n",
    "num"
   ]
  },
  {
   "cell_type": "code",
   "execution_count": 8,
   "id": "b38ec5c0",
   "metadata": {},
   "outputs": [
    {
     "data": {
      "text/html": [
       "<div>\n",
       "<style scoped>\n",
       "    .dataframe tbody tr th:only-of-type {\n",
       "        vertical-align: middle;\n",
       "    }\n",
       "\n",
       "    .dataframe tbody tr th {\n",
       "        vertical-align: top;\n",
       "    }\n",
       "\n",
       "    .dataframe thead th {\n",
       "        text-align: right;\n",
       "    }\n",
       "</style>\n",
       "<table border=\"1\" class=\"dataframe\">\n",
       "  <thead>\n",
       "    <tr style=\"text-align: right;\">\n",
       "      <th></th>\n",
       "      <th>age</th>\n",
       "      <th>duration</th>\n",
       "      <th>campaign</th>\n",
       "      <th>pdays</th>\n",
       "      <th>previous</th>\n",
       "      <th>emp.var.rate</th>\n",
       "      <th>cons.price.idx</th>\n",
       "      <th>cons.conf.idx</th>\n",
       "      <th>euribor3m</th>\n",
       "      <th>nr.employed</th>\n",
       "    </tr>\n",
       "  </thead>\n",
       "  <tbody>\n",
       "    <tr>\n",
       "      <th>count</th>\n",
       "      <td>41188.00000</td>\n",
       "      <td>41188.000000</td>\n",
       "      <td>41188.000000</td>\n",
       "      <td>41188.000000</td>\n",
       "      <td>41188.000000</td>\n",
       "      <td>41188.000000</td>\n",
       "      <td>41188.000000</td>\n",
       "      <td>41188.000000</td>\n",
       "      <td>41188.000000</td>\n",
       "      <td>41188.000000</td>\n",
       "    </tr>\n",
       "    <tr>\n",
       "      <th>mean</th>\n",
       "      <td>40.02406</td>\n",
       "      <td>258.285010</td>\n",
       "      <td>2.567593</td>\n",
       "      <td>962.475454</td>\n",
       "      <td>0.172963</td>\n",
       "      <td>0.081886</td>\n",
       "      <td>93.575664</td>\n",
       "      <td>-40.502600</td>\n",
       "      <td>3.621291</td>\n",
       "      <td>5167.019010</td>\n",
       "    </tr>\n",
       "    <tr>\n",
       "      <th>std</th>\n",
       "      <td>10.42125</td>\n",
       "      <td>259.279249</td>\n",
       "      <td>2.770014</td>\n",
       "      <td>186.910907</td>\n",
       "      <td>0.494901</td>\n",
       "      <td>1.570960</td>\n",
       "      <td>0.578840</td>\n",
       "      <td>4.628198</td>\n",
       "      <td>1.734447</td>\n",
       "      <td>72.178074</td>\n",
       "    </tr>\n",
       "    <tr>\n",
       "      <th>min</th>\n",
       "      <td>17.00000</td>\n",
       "      <td>0.000000</td>\n",
       "      <td>1.000000</td>\n",
       "      <td>0.000000</td>\n",
       "      <td>0.000000</td>\n",
       "      <td>-3.400000</td>\n",
       "      <td>92.201000</td>\n",
       "      <td>-50.800000</td>\n",
       "      <td>0.634000</td>\n",
       "      <td>4964.000000</td>\n",
       "    </tr>\n",
       "    <tr>\n",
       "      <th>25%</th>\n",
       "      <td>32.00000</td>\n",
       "      <td>102.000000</td>\n",
       "      <td>1.000000</td>\n",
       "      <td>999.000000</td>\n",
       "      <td>0.000000</td>\n",
       "      <td>-1.800000</td>\n",
       "      <td>93.075000</td>\n",
       "      <td>-42.700000</td>\n",
       "      <td>1.344000</td>\n",
       "      <td>5099.000000</td>\n",
       "    </tr>\n",
       "    <tr>\n",
       "      <th>50%</th>\n",
       "      <td>38.00000</td>\n",
       "      <td>180.000000</td>\n",
       "      <td>2.000000</td>\n",
       "      <td>999.000000</td>\n",
       "      <td>0.000000</td>\n",
       "      <td>1.100000</td>\n",
       "      <td>93.749000</td>\n",
       "      <td>-41.800000</td>\n",
       "      <td>4.857000</td>\n",
       "      <td>5191.000000</td>\n",
       "    </tr>\n",
       "    <tr>\n",
       "      <th>75%</th>\n",
       "      <td>47.00000</td>\n",
       "      <td>319.000000</td>\n",
       "      <td>3.000000</td>\n",
       "      <td>999.000000</td>\n",
       "      <td>0.000000</td>\n",
       "      <td>1.400000</td>\n",
       "      <td>93.994000</td>\n",
       "      <td>-36.400000</td>\n",
       "      <td>4.961000</td>\n",
       "      <td>5228.000000</td>\n",
       "    </tr>\n",
       "    <tr>\n",
       "      <th>max</th>\n",
       "      <td>98.00000</td>\n",
       "      <td>4918.000000</td>\n",
       "      <td>56.000000</td>\n",
       "      <td>999.000000</td>\n",
       "      <td>7.000000</td>\n",
       "      <td>1.400000</td>\n",
       "      <td>94.767000</td>\n",
       "      <td>-26.900000</td>\n",
       "      <td>5.045000</td>\n",
       "      <td>5228.000000</td>\n",
       "    </tr>\n",
       "  </tbody>\n",
       "</table>\n",
       "</div>"
      ],
      "text/plain": [
       "               age      duration      campaign         pdays      previous  \\\n",
       "count  41188.00000  41188.000000  41188.000000  41188.000000  41188.000000   \n",
       "mean      40.02406    258.285010      2.567593    962.475454      0.172963   \n",
       "std       10.42125    259.279249      2.770014    186.910907      0.494901   \n",
       "min       17.00000      0.000000      1.000000      0.000000      0.000000   \n",
       "25%       32.00000    102.000000      1.000000    999.000000      0.000000   \n",
       "50%       38.00000    180.000000      2.000000    999.000000      0.000000   \n",
       "75%       47.00000    319.000000      3.000000    999.000000      0.000000   \n",
       "max       98.00000   4918.000000     56.000000    999.000000      7.000000   \n",
       "\n",
       "       emp.var.rate  cons.price.idx  cons.conf.idx     euribor3m   nr.employed  \n",
       "count  41188.000000    41188.000000   41188.000000  41188.000000  41188.000000  \n",
       "mean       0.081886       93.575664     -40.502600      3.621291   5167.019010  \n",
       "std        1.570960        0.578840       4.628198      1.734447     72.178074  \n",
       "min       -3.400000       92.201000     -50.800000      0.634000   4964.000000  \n",
       "25%       -1.800000       93.075000     -42.700000      1.344000   5099.000000  \n",
       "50%        1.100000       93.749000     -41.800000      4.857000   5191.000000  \n",
       "75%        1.400000       93.994000     -36.400000      4.961000   5228.000000  \n",
       "max        1.400000       94.767000     -26.900000      5.045000   5228.000000  "
      ]
     },
     "execution_count": 8,
     "metadata": {},
     "output_type": "execute_result"
    }
   ],
   "source": [
    "describe=bank_add.describe()\n",
    "describe"
   ]
  },
  {
   "cell_type": "code",
   "execution_count": 9,
   "id": "37932e73",
   "metadata": {},
   "outputs": [],
   "source": [
    "#sns.displot(bank_add)\n",
    "#plt.subplots()\n",
    "#plt.set_size_inches(11.7, 8.27)\n",
    "#plt.show()"
   ]
  },
  {
   "cell_type": "markdown",
   "id": "1ab38461",
   "metadata": {},
   "source": [
    "# Represting the data using Histogram(hist()) "
   ]
  },
  {
   "cell_type": "code",
   "execution_count": 10,
   "id": "0717d98e",
   "metadata": {},
   "outputs": [],
   "source": [
    "#Histogram (Numeric data)."
   ]
  },
  {
   "cell_type": "code",
   "execution_count": 11,
   "id": "998a2077",
   "metadata": {},
   "outputs": [
    {
     "data": {
      "image/png": "[encoded data removed]",
      "text/plain": [
       "<Figure size 2160x2160 with 12 Axes>"
      ]
     },
     "metadata": {
      "needs_background": "light"
     },
     "output_type": "display_data"
    }
   ],
   "source": [
    "bank_add.hist()\n",
    "plt.gcf().set_size_inches(30, 30)"
   ]
  },
  {
   "cell_type": "code",
   "execution_count": 12,
   "id": "6fbce892",
   "metadata": {},
   "outputs": [],
   "source": [
    "#Histogram (Catagerical data)"
   ]
  },
  {
   "cell_type": "code",
   "execution_count": 13,
   "id": "d077713e",
   "metadata": {},
   "outputs": [
    {
     "data": {
      "image/png": "[encoded data removed]",
      "text/plain": [
       "<Figure size 1080x576 with 1 Axes>"
      ]
     },
     "metadata": {
      "needs_background": "light"
     },
     "output_type": "display_data"
    }
   ],
   "source": [
    "#Job : type of job ('admin.','blue-collar','entrepreneur','housemaid','management','retired','self-employed','services','student','technician','unemployed','unknown')\n",
    "bank_add[cat[0]].hist()\n",
    "plt.gcf().set_size_inches(15, 8)"
   ]
  },
  {
   "cell_type": "code",
   "execution_count": 14,
   "id": "972caf69",
   "metadata": {},
   "outputs": [
    {
     "data": {
      "image/png": "[encoded data removed]",
      "text/plain": [
       "<Figure size 1080x576 with 1 Axes>"
      ]
     },
     "metadata": {
      "needs_background": "light"
     },
     "output_type": "display_data"
    }
   ],
   "source": [
    "#Marital : marital status ('divorced','married','single','unknown'; note: 'divorced' means divorced or widowed)\n",
    "bank_add[cat[1]].hist()\n",
    "plt.gcf().set_size_inches(15, 8)"
   ]
  },
  {
   "cell_type": "code",
   "execution_count": 15,
   "id": "696c9d57",
   "metadata": {},
   "outputs": [
    {
     "data": {
      "image/png": "[encoded data removed]",
      "text/plain": [
       "<Figure size 1080x576 with 1 Axes>"
      ]
     },
     "metadata": {
      "needs_background": "light"
     },
     "output_type": "display_data"
    }
   ],
   "source": [
    "#Education :  ('basic.4y','basic.6y','basic.9y','high.school','illiterate','professional.course','university.degree','unknown')\n",
    "bank_add[cat[2]].hist()\n",
    "plt.gcf().set_size_inches(15, 8)"
   ]
  },
  {
   "cell_type": "code",
   "execution_count": 16,
   "id": "7eb49167",
   "metadata": {},
   "outputs": [
    {
     "data": {
      "image/png": "[encoded data removed]",
      "text/plain": [
       "<Figure size 1080x576 with 1 Axes>"
      ]
     },
     "metadata": {
      "needs_background": "light"
     },
     "output_type": "display_data"
    }
   ],
   "source": [
    "#Default : has credit in default? ('no','yes','unknown')\n",
    "bank_add[cat[3]].hist()\n",
    "plt.gcf().set_size_inches(15, 8)"
   ]
  },
  {
   "cell_type": "code",
   "execution_count": 17,
   "id": "19164226",
   "metadata": {},
   "outputs": [
    {
     "data": {
      "image/png": "[encoded data removed]",
      "text/plain": [
       "<Figure size 1080x576 with 1 Axes>"
      ]
     },
     "metadata": {
      "needs_background": "light"
     },
     "output_type": "display_data"
    }
   ],
   "source": [
    "#Hosuing : has housing loan? ('no','yes','unknown')\n",
    "bank_add[cat[4]].hist()\n",
    "plt.gcf().set_size_inches(15, 8)"
   ]
  },
  {
   "cell_type": "code",
   "execution_count": 18,
   "id": "ca6dd63f",
   "metadata": {},
   "outputs": [
    {
     "data": {
      "image/png": "[encoded data removed]",
      "text/plain": [
       "<Figure size 1080x576 with 1 Axes>"
      ]
     },
     "metadata": {
      "needs_background": "light"
     },
     "output_type": "display_data"
    }
   ],
   "source": [
    "#Loan : has personal loan? ('no','yes','unknown')\n",
    "bank_add[cat[5]].hist()\n",
    "plt.gcf().set_size_inches(15, 8)"
   ]
  },
  {
   "cell_type": "code",
   "execution_count": 19,
   "id": "7a7fec33",
   "metadata": {},
   "outputs": [
    {
     "data": {
      "image/png": "[encoded data removed]",
      "text/plain": [
       "<Figure size 1080x576 with 1 Axes>"
      ]
     },
     "metadata": {
      "needs_background": "light"
     },
     "output_type": "display_data"
    }
   ],
   "source": [
    "# related with the last contact of the current campaign:\n",
    "#Contact :  contact communication type ('cellular','telephone')\n",
    "bank_add[cat[6]].hist()\n",
    "plt.gcf().set_size_inches(15, 8)"
   ]
  },
  {
   "cell_type": "code",
   "execution_count": 20,
   "id": "dfbcce85",
   "metadata": {},
   "outputs": [
    {
     "data": {
      "image/png": "[encoded data removed]",
      "text/plain": [
       "<Figure size 1080x576 with 1 Axes>"
      ]
     },
     "metadata": {
      "needs_background": "light"
     },
     "output_type": "display_data"
    }
   ],
   "source": [
    "#Month : Last contact month of year ('jan', 'feb', 'mar', ..., 'nov', 'dec')\n",
    "bank_add[cat[7]].hist()\n",
    "plt.gcf().set_size_inches(15, 8)"
   ]
  },
  {
   "cell_type": "code",
   "execution_count": 21,
   "id": "d7a930bd",
   "metadata": {},
   "outputs": [
    {
     "data": {
      "image/png": "[encoded data removed]",
      "text/plain": [
       "<Figure size 1080x576 with 1 Axes>"
      ]
     },
     "metadata": {
      "needs_background": "light"
     },
     "output_type": "display_data"
    }
   ],
   "source": [
    "#Day_of_week : last contact day of the week ('mon','tue','wed','thu','fri')\n",
    "bank_add[cat[8]].hist()\n",
    "plt.gcf().set_size_inches(15, 8)"
   ]
  },
  {
   "cell_type": "code",
   "execution_count": 22,
   "id": "ab83d5b4",
   "metadata": {},
   "outputs": [
    {
     "data": {
      "image/png": "[encoded data removed]",
      "text/plain": [
       "<Figure size 1080x576 with 1 Axes>"
      ]
     },
     "metadata": {
      "needs_background": "light"
     },
     "output_type": "display_data"
    }
   ],
   "source": [
    "#Poutcome : outcome of the previous marketing campaign (categorical: 'failure','nonexistent','success')\n",
    "bank_add[cat[9]].hist()\n",
    "plt.gcf().set_size_inches(15, 8)"
   ]
  },
  {
   "cell_type": "code",
   "execution_count": 23,
   "id": "a2d14679",
   "metadata": {},
   "outputs": [
    {
     "data": {
      "image/png": "[encoded data removed]",
      "text/plain": [
       "<Figure size 1080x576 with 1 Axes>"
      ]
     },
     "metadata": {
      "needs_background": "light"
     },
     "output_type": "display_data"
    }
   ],
   "source": [
    "#Y : has the client subscribed a term deposit? (binary: 'yes','no')\n",
    "bank_add[cat[10]].hist()\n",
    "plt.gcf().set_size_inches(15, 8)"
   ]
  },
  {
   "cell_type": "code",
   "execution_count": 24,
   "id": "3d7b39eb",
   "metadata": {},
   "outputs": [
    {
     "data": {
      "text/plain": [
       "age               0\n",
       "job               0\n",
       "marital           0\n",
       "education         0\n",
       "default           0\n",
       "housing           0\n",
       "loan              0\n",
       "contact           0\n",
       "month             0\n",
       "day_of_week       0\n",
       "duration          0\n",
       "campaign          0\n",
       "pdays             0\n",
       "previous          0\n",
       "poutcome          0\n",
       "emp.var.rate      0\n",
       "cons.price.idx    0\n",
       "cons.conf.idx     0\n",
       "euribor3m         0\n",
       "nr.employed       0\n",
       "y                 0\n",
       "dtype: int64"
      ]
     },
     "execution_count": 24,
     "metadata": {},
     "output_type": "execute_result"
    }
   ],
   "source": [
    "#Checking if there are null values in the data set.\n",
    "bank_add.isnull().sum()"
   ]
  },
  {
   "cell_type": "code",
   "execution_count": 25,
   "id": "184e0610",
   "metadata": {},
   "outputs": [
    {
     "data": {
      "text/plain": [
       "12"
      ]
     },
     "execution_count": 25,
     "metadata": {},
     "output_type": "execute_result"
    }
   ],
   "source": [
    "bank_add.duplicated().sum()"
   ]
  },
  {
   "cell_type": "code",
   "execution_count": 26,
   "id": "88e0abde",
   "metadata": {},
   "outputs": [],
   "source": [
    "bank_add_rd=bank_add.drop_duplicates()"
   ]
  },
  {
   "cell_type": "code",
   "execution_count": 27,
   "id": "452a5b47",
   "metadata": {},
   "outputs": [
    {
     "data": {
      "text/plain": [
       "0"
      ]
     },
     "execution_count": 27,
     "metadata": {},
     "output_type": "execute_result"
    }
   ],
   "source": [
    "bank_add_rd.duplicated().sum()"
   ]
  },
  {
   "cell_type": "code",
   "execution_count": 28,
   "id": "e0c746a3",
   "metadata": {},
   "outputs": [
    {
     "data": {
      "text/html": [
       "<div>\n",
       "<style scoped>\n",
       "    .dataframe tbody tr th:only-of-type {\n",
       "        vertical-align: middle;\n",
       "    }\n",
       "\n",
       "    .dataframe tbody tr th {\n",
       "        vertical-align: top;\n",
       "    }\n",
       "\n",
       "    .dataframe thead th {\n",
       "        text-align: right;\n",
       "    }\n",
       "</style>\n",
       "<table border=\"1\" class=\"dataframe\">\n",
       "  <thead>\n",
       "    <tr style=\"text-align: right;\">\n",
       "      <th></th>\n",
       "      <th>age</th>\n",
       "      <th>duration</th>\n",
       "      <th>campaign</th>\n",
       "      <th>pdays</th>\n",
       "      <th>previous</th>\n",
       "      <th>emp.var.rate</th>\n",
       "      <th>cons.price.idx</th>\n",
       "      <th>cons.conf.idx</th>\n",
       "      <th>euribor3m</th>\n",
       "      <th>nr.employed</th>\n",
       "    </tr>\n",
       "  </thead>\n",
       "  <tbody>\n",
       "    <tr>\n",
       "      <th>count</th>\n",
       "      <td>41176.00000</td>\n",
       "      <td>41176.000000</td>\n",
       "      <td>41176.000000</td>\n",
       "      <td>41176.000000</td>\n",
       "      <td>41176.000000</td>\n",
       "      <td>41176.000000</td>\n",
       "      <td>41176.000000</td>\n",
       "      <td>41176.000000</td>\n",
       "      <td>41176.000000</td>\n",
       "      <td>41176.000000</td>\n",
       "    </tr>\n",
       "    <tr>\n",
       "      <th>mean</th>\n",
       "      <td>40.02380</td>\n",
       "      <td>258.315815</td>\n",
       "      <td>2.567879</td>\n",
       "      <td>962.464810</td>\n",
       "      <td>0.173013</td>\n",
       "      <td>0.081922</td>\n",
       "      <td>93.575720</td>\n",
       "      <td>-40.502863</td>\n",
       "      <td>3.621293</td>\n",
       "      <td>5167.017972</td>\n",
       "    </tr>\n",
       "    <tr>\n",
       "      <th>std</th>\n",
       "      <td>10.42068</td>\n",
       "      <td>259.305321</td>\n",
       "      <td>2.770318</td>\n",
       "      <td>186.937102</td>\n",
       "      <td>0.494964</td>\n",
       "      <td>1.570883</td>\n",
       "      <td>0.578839</td>\n",
       "      <td>4.627860</td>\n",
       "      <td>1.734437</td>\n",
       "      <td>72.177913</td>\n",
       "    </tr>\n",
       "    <tr>\n",
       "      <th>min</th>\n",
       "      <td>17.00000</td>\n",
       "      <td>0.000000</td>\n",
       "      <td>1.000000</td>\n",
       "      <td>0.000000</td>\n",
       "      <td>0.000000</td>\n",
       "      <td>-3.400000</td>\n",
       "      <td>92.201000</td>\n",
       "      <td>-50.800000</td>\n",
       "      <td>0.634000</td>\n",
       "      <td>4964.000000</td>\n",
       "    </tr>\n",
       "    <tr>\n",
       "      <th>25%</th>\n",
       "      <td>32.00000</td>\n",
       "      <td>102.000000</td>\n",
       "      <td>1.000000</td>\n",
       "      <td>999.000000</td>\n",
       "      <td>0.000000</td>\n",
       "      <td>-1.800000</td>\n",
       "      <td>93.075000</td>\n",
       "      <td>-42.700000</td>\n",
       "      <td>1.344000</td>\n",
       "      <td>5099.000000</td>\n",
       "    </tr>\n",
       "    <tr>\n",
       "      <th>50%</th>\n",
       "      <td>38.00000</td>\n",
       "      <td>180.000000</td>\n",
       "      <td>2.000000</td>\n",
       "      <td>999.000000</td>\n",
       "      <td>0.000000</td>\n",
       "      <td>1.100000</td>\n",
       "      <td>93.749000</td>\n",
       "      <td>-41.800000</td>\n",
       "      <td>4.857000</td>\n",
       "      <td>5191.000000</td>\n",
       "    </tr>\n",
       "    <tr>\n",
       "      <th>75%</th>\n",
       "      <td>47.00000</td>\n",
       "      <td>319.000000</td>\n",
       "      <td>3.000000</td>\n",
       "      <td>999.000000</td>\n",
       "      <td>0.000000</td>\n",
       "      <td>1.400000</td>\n",
       "      <td>93.994000</td>\n",
       "      <td>-36.400000</td>\n",
       "      <td>4.961000</td>\n",
       "      <td>5228.000000</td>\n",
       "    </tr>\n",
       "    <tr>\n",
       "      <th>max</th>\n",
       "      <td>98.00000</td>\n",
       "      <td>4918.000000</td>\n",
       "      <td>56.000000</td>\n",
       "      <td>999.000000</td>\n",
       "      <td>7.000000</td>\n",
       "      <td>1.400000</td>\n",
       "      <td>94.767000</td>\n",
       "      <td>-26.900000</td>\n",
       "      <td>5.045000</td>\n",
       "      <td>5228.000000</td>\n",
       "    </tr>\n",
       "  </tbody>\n",
       "</table>\n",
       "</div>"
      ],
      "text/plain": [
       "               age      duration      campaign         pdays      previous  \\\n",
       "count  41176.00000  41176.000000  41176.000000  41176.000000  41176.000000   \n",
       "mean      40.02380    258.315815      2.567879    962.464810      0.173013   \n",
       "std       10.42068    259.305321      2.770318    186.937102      0.494964   \n",
       "min       17.00000      0.000000      1.000000      0.000000      0.000000   \n",
       "25%       32.00000    102.000000      1.000000    999.000000      0.000000   \n",
       "50%       38.00000    180.000000      2.000000    999.000000      0.000000   \n",
       "75%       47.00000    319.000000      3.000000    999.000000      0.000000   \n",
       "max       98.00000   4918.000000     56.000000    999.000000      7.000000   \n",
       "\n",
       "       emp.var.rate  cons.price.idx  cons.conf.idx     euribor3m   nr.employed  \n",
       "count  41176.000000    41176.000000   41176.000000  41176.000000  41176.000000  \n",
       "mean       0.081922       93.575720     -40.502863      3.621293   5167.017972  \n",
       "std        1.570883        0.578839       4.627860      1.734437     72.177913  \n",
       "min       -3.400000       92.201000     -50.800000      0.634000   4964.000000  \n",
       "25%       -1.800000       93.075000     -42.700000      1.344000   5099.000000  \n",
       "50%        1.100000       93.749000     -41.800000      4.857000   5191.000000  \n",
       "75%        1.400000       93.994000     -36.400000      4.961000   5228.000000  \n",
       "max        1.400000       94.767000     -26.900000      5.045000   5228.000000  "
      ]
     },
     "execution_count": 28,
     "metadata": {},
     "output_type": "execute_result"
    }
   ],
   "source": [
    "bank_add_rd.describe()"
   ]
  },
  {
   "cell_type": "code",
   "execution_count": 29,
   "id": "c61cf86d",
   "metadata": {},
   "outputs": [],
   "source": [
    "evr=bank_add['emp.var.rate']\n",
    "cpi=bank_add['cons.price.idx']\n",
    "cci=bank_add['cons.conf.idx']\n",
    "nre=bank_add['nr.employed']"
   ]
  },
  {
   "cell_type": "markdown",
   "id": "7e7fc896",
   "metadata": {},
   "source": [
    "# Calucating Range and IQR"
   ]
  },
  {
   "cell_type": "code",
   "execution_count": 30,
   "id": "b9466048",
   "metadata": {},
   "outputs": [],
   "source": [
    "#Numeric values."
   ]
  },
  {
   "cell_type": "code",
   "execution_count": 31,
   "id": "bc9fd0fa",
   "metadata": {},
   "outputs": [
    {
     "name": "stdout",
     "output_type": "stream",
     "text": [
      "Min Value 17\n",
      "Max Value 98\n",
      "Q1 32.0\n",
      "Q3 47.0\n",
      "IQR 15.0\n",
      "lower Limit 9.5\n",
      "upper Limit 69.5\n"
     ]
    }
   ],
   "source": [
    "Q1=bank_add.age.quantile(.25)\n",
    "Q3=bank_add.age.quantile(.75)\n",
    "IQR=Q3-Q1\n",
    "lower_limit=Q1-(1.5*IQR)\n",
    "upper_limit=Q3+(1.5*IQR)\n",
    "print(\"Min Value\",bank_add.age.min())\n",
    "print(\"Max Value\",bank_add.age.max())\n",
    "print('Q1',Q1)\n",
    "print('Q3',Q3)\n",
    "print('IQR',IQR)\n",
    "print('lower Limit',lower_limit)\n",
    "print('upper Limit',upper_limit)"
   ]
  },
  {
   "cell_type": "code",
   "execution_count": 32,
   "id": "4b0846c3",
   "metadata": {},
   "outputs": [
    {
     "data": {
      "text/plain": [
       "<AxesSubplot:>"
      ]
     },
     "execution_count": 32,
     "metadata": {},
     "output_type": "execute_result"
    },
    {
     "data": {
      "image/png": "[encoded data removed]",
      "text/plain": [
       "<Figure size 432x288 with 1 Axes>"
      ]
     },
     "metadata": {
      "needs_background": "light"
     },
     "output_type": "display_data"
    }
   ],
   "source": [
    "bank_add.boxplot('age')"
   ]
  },
  {
   "cell_type": "code",
   "execution_count": 33,
   "id": "f2c27d6b",
   "metadata": {},
   "outputs": [
    {
     "name": "stdout",
     "output_type": "stream",
     "text": [
      "Min Value 0\n",
      "Max Value 4918\n",
      "Q1 102.0\n",
      "Q3 319.0\n",
      "IQR 217.0\n",
      "lower Limit -223.5\n",
      "upper Limit 644.5\n"
     ]
    }
   ],
   "source": [
    "Q1=bank_add.duration.quantile(.25)\n",
    "Q3=bank_add.duration.quantile(.75)\n",
    "IQR=Q3-Q1\n",
    "lower_limit=Q1-(1.5*IQR)\n",
    "upper_limit=Q3+(1.5*IQR)\n",
    "print(\"Min Value\",bank_add.duration.min())\n",
    "print(\"Max Value\",bank_add.duration.max())\n",
    "print('Q1',Q1)\n",
    "print('Q3',Q3)\n",
    "print('IQR',IQR)\n",
    "print('lower Limit',lower_limit)\n",
    "print('upper Limit',upper_limit)"
   ]
  },
  {
   "cell_type": "code",
   "execution_count": 34,
   "id": "df5e60fa",
   "metadata": {},
   "outputs": [
    {
     "data": {
      "text/plain": [
       "<AxesSubplot:>"
      ]
     },
     "execution_count": 34,
     "metadata": {},
     "output_type": "execute_result"
    },
    {
     "data": {
      "image/png": "[encoded data removed]",
      "text/plain": [
       "<Figure size 432x288 with 1 Axes>"
      ]
     },
     "metadata": {
      "needs_background": "light"
     },
     "output_type": "display_data"
    }
   ],
   "source": [
    "bank_add.boxplot('duration')"
   ]
  },
  {
   "cell_type": "code",
   "execution_count": 35,
   "id": "33174f5f",
   "metadata": {},
   "outputs": [
    {
     "name": "stdout",
     "output_type": "stream",
     "text": [
      "Min Value 1\n",
      "Max Value 56\n",
      "Q1 1.0\n",
      "Q3 3.0\n",
      "IQR 2.0\n",
      "lower Limit -2.0\n",
      "upper Limit 6.0\n"
     ]
    }
   ],
   "source": [
    "Q1=bank_add.campaign.quantile(.25)\n",
    "Q3=bank_add.campaign.quantile(.75)\n",
    "IQR=Q3-Q1\n",
    "lower_limit=Q1-(1.5*IQR)\n",
    "upper_limit=Q3+(1.5*IQR)\n",
    "print(\"Min Value\",bank_add.campaign.min())\n",
    "print(\"Max Value\",bank_add.campaign.max())\n",
    "print('Q1',Q1)\n",
    "print('Q3',Q3)\n",
    "print('IQR',IQR)\n",
    "print('lower Limit',lower_limit)\n",
    "print('upper Limit',upper_limit)"
   ]
  },
  {
   "cell_type": "code",
   "execution_count": 36,
   "id": "b89a1234",
   "metadata": {},
   "outputs": [
    {
     "name": "stdout",
     "output_type": "stream",
     "text": [
      "Min Value 0\n",
      "Max Value 7\n",
      "Q1 0.0\n",
      "Q3 0.0\n",
      "IQR 0.0\n",
      "lower Limit 0.0\n",
      "upper Limit 0.0\n"
     ]
    }
   ],
   "source": [
    "Q1=bank_add.previous.quantile(.25)\n",
    "Q3=bank_add.previous.quantile(.75)\n",
    "IQR=Q3-Q1\n",
    "lower_limit=Q1-(1.5*IQR)\n",
    "upper_limit=Q3+(1.5*IQR)\n",
    "print(\"Min Value\",bank_add.previous.min())\n",
    "print(\"Max Value\",bank_add.previous.max())\n",
    "print('Q1',Q1)\n",
    "print('Q3',Q3)\n",
    "print('IQR',IQR)\n",
    "print('lower Limit',lower_limit)\n",
    "print('upper Limit',upper_limit)"
   ]
  },
  {
   "cell_type": "code",
   "execution_count": 37,
   "id": "f96b2424",
   "metadata": {},
   "outputs": [
    {
     "name": "stdout",
     "output_type": "stream",
     "text": [
      "Min Value -3.4\n",
      "Max Value 1.4\n",
      "Q1 -1.8\n",
      "Q3 1.4\n",
      "IQR 3.2\n",
      "lower Limit -6.6000000000000005\n",
      "upper Limit 6.200000000000001\n"
     ]
    }
   ],
   "source": [
    "Q1=evr.quantile(.25)\n",
    "Q3=evr.quantile(.75)\n",
    "IQR=Q3-Q1\n",
    "lower_limit=Q1-(1.5*IQR)\n",
    "upper_limit=Q3+(1.5*IQR)\n",
    "print(\"Min Value\",evr.min())\n",
    "print(\"Max Value\",evr.max())\n",
    "print('Q1',Q1)\n",
    "print('Q3',Q3)\n",
    "print('IQR',IQR)\n",
    "print('lower Limit',lower_limit)\n",
    "print('upper Limit',upper_limit)"
   ]
  },
  {
   "cell_type": "code",
   "execution_count": 38,
   "id": "18d9ef03",
   "metadata": {},
   "outputs": [
    {
     "name": "stdout",
     "output_type": "stream",
     "text": [
      "Min Value 92.201\n",
      "Max Value 94.767\n",
      "Q1 93.075\n",
      "Q3 93.994\n",
      "IQR 0.9189999999999969\n",
      "lower Limit 91.69650000000001\n",
      "upper Limit 95.3725\n"
     ]
    }
   ],
   "source": [
    "Q1=cpi.quantile(.25)\n",
    "Q3=cpi.quantile(.75)\n",
    "IQR=Q3-Q1\n",
    "lower_limit=Q1-(1.5*IQR)\n",
    "upper_limit=Q3+(1.5*IQR)\n",
    "print(\"Min Value\",cpi.min())\n",
    "print(\"Max Value\",cpi.max())\n",
    "print('Q1',Q1)\n",
    "print('Q3',Q3)\n",
    "print('IQR',IQR)\n",
    "print('lower Limit',lower_limit)\n",
    "print('upper Limit',upper_limit)"
   ]
  },
  {
   "cell_type": "code",
   "execution_count": 39,
   "id": "872f2e1b",
   "metadata": {},
   "outputs": [
    {
     "name": "stdout",
     "output_type": "stream",
     "text": [
      "Min Value -50.8\n",
      "Max Value -26.9\n",
      "Q1 -42.7\n",
      "Q3 -36.4\n",
      "IQR 6.300000000000004\n",
      "lower Limit -52.150000000000006\n",
      "upper Limit -26.949999999999992\n"
     ]
    }
   ],
   "source": [
    "Q1=cci.quantile(.25)\n",
    "Q3=cci.quantile(.75)\n",
    "IQR=Q3-Q1\n",
    "lower_limit=Q1-(1.5*IQR)\n",
    "upper_limit=Q3+(1.5*IQR)\n",
    "print(\"Min Value\",cci.min())\n",
    "print(\"Max Value\",cci.max())\n",
    "print('Q1',Q1)\n",
    "print('Q3',Q3)\n",
    "print('IQR',IQR)\n",
    "print('lower Limit',lower_limit)\n",
    "print('upper Limit',upper_limit)"
   ]
  },
  {
   "cell_type": "code",
   "execution_count": 40,
   "id": "5d1f129c",
   "metadata": {},
   "outputs": [
    {
     "name": "stdout",
     "output_type": "stream",
     "text": [
      "Min Value 0.634\n",
      "Max Value 5.045\n",
      "Q1 1.344\n",
      "Q3 4.961\n",
      "IQR 3.617\n",
      "lower Limit -4.081499999999999\n",
      "upper Limit 10.3865\n"
     ]
    }
   ],
   "source": [
    "Q1=bank_add.euribor3m.quantile(.25)\n",
    "Q3=bank_add.euribor3m.quantile(.75)\n",
    "IQR=Q3-Q1\n",
    "lower_limit=Q1-(1.5*IQR)\n",
    "upper_limit=Q3+(1.5*IQR)\n",
    "print(\"Min Value\",bank_add.euribor3m.min())\n",
    "print(\"Max Value\",bank_add.euribor3m.max())\n",
    "print('Q1',Q1)\n",
    "print('Q3',Q3)\n",
    "print('IQR',IQR)\n",
    "print('lower Limit',lower_limit)\n",
    "print('upper Limit',upper_limit)"
   ]
  },
  {
   "cell_type": "code",
   "execution_count": 41,
   "id": "8fbdb1d0",
   "metadata": {},
   "outputs": [
    {
     "name": "stdout",
     "output_type": "stream",
     "text": [
      "Min Value 4964\n",
      "Max Value 5228\n",
      "Q1 5099.0\n",
      "Q3 5228.0\n",
      "IQR 129.0\n",
      "lower Limit 4905.5\n",
      "upper Limit 5421.5\n"
     ]
    }
   ],
   "source": [
    "Q1=nre.quantile(.25)\n",
    "Q3=nre.quantile(.75)\n",
    "IQR=Q3-Q1\n",
    "lower_limit=Q1-(1.5*IQR)\n",
    "upper_limit=Q3+(1.5*IQR)\n",
    "print(\"Min Value\",nre.min())\n",
    "print(\"Max Value\",nre.max())\n",
    "print('Q1',Q1)\n",
    "print('Q3',Q3)\n",
    "print('IQR',IQR)\n",
    "print('lower Limit',lower_limit)\n",
    "print('upper Limit',upper_limit)"
   ]
  },
  {
   "cell_type": "markdown",
   "id": "a2a9cce4",
   "metadata": {},
   "source": [
    "# Finding the Variance of the data set(Numeric Attribute)"
   ]
  },
  {
   "cell_type": "code",
   "execution_count": 42,
   "id": "ca55506d",
   "metadata": {},
   "outputs": [
    {
     "name": "stdout",
     "output_type": "stream",
     "text": [
      "age                 108.602451\n",
      "duration          67225.728877\n",
      "campaign              7.672975\n",
      "pdays             34935.687284\n",
      "previous              0.244927\n",
      "emp.var.rate          2.467915\n",
      "cons.price.idx        0.335056\n",
      "cons.conf.idx        21.420215\n",
      "euribor3m             3.008308\n",
      "nr.employed        5209.674366\n",
      "dtype: float64\n"
     ]
    }
   ],
   "source": [
    "print(bank_add.var())"
   ]
  },
  {
   "cell_type": "markdown",
   "id": "5b623ad2",
   "metadata": {},
   "source": [
    "# Finding the standard Deviation of the data set(Numeric Attribute)"
   ]
  },
  {
   "cell_type": "code",
   "execution_count": 43,
   "id": "37e106b8",
   "metadata": {},
   "outputs": [
    {
     "name": "stdout",
     "output_type": "stream",
     "text": [
      "age                10.421250\n",
      "duration          259.279249\n",
      "campaign            2.770014\n",
      "pdays             186.910907\n",
      "previous            0.494901\n",
      "emp.var.rate        1.570960\n",
      "cons.price.idx      0.578840\n",
      "cons.conf.idx       4.628198\n",
      "euribor3m           1.734447\n",
      "nr.employed        72.178074\n",
      "dtype: float64\n"
     ]
    }
   ],
   "source": [
    "print(bank_add.std())"
   ]
  },
  {
   "cell_type": "code",
   "execution_count": 44,
   "id": "3b63efe1",
   "metadata": {},
   "outputs": [
    {
     "data": {
      "text/plain": [
       "array([[ 1.53303429,  0.01047142, -0.56592197, ...,  0.88644656,\n",
       "         0.71245988,  0.3322516 ],\n",
       "       [ 1.62899323, -0.42150051, -0.56592197, ...,  0.88644656,\n",
       "         0.71245988,  0.3322516 ],\n",
       "       [-0.29018564, -0.12451981, -0.56592197, ...,  0.88644656,\n",
       "         0.71245988,  0.3322516 ],\n",
       "       ...,\n",
       "       [ 1.53303429, -0.26722482, -0.20490853, ..., -2.22495344,\n",
       "        -1.49518647, -2.81278599],\n",
       "       [ 0.38152696,  0.70856893, -0.56592197, ..., -2.22495344,\n",
       "        -1.49518647, -2.81278599],\n",
       "       [ 3.26029527, -0.07438021,  0.15610492, ..., -2.22495344,\n",
       "        -1.49518647, -2.81278599]])"
      ]
     },
     "execution_count": 44,
     "metadata": {},
     "output_type": "execute_result"
    }
   ],
   "source": [
    "#Calculating Zscores in numeroc data.\n",
    "z_scores = zscore(bank_add[num])\n",
    "z_scores"
   ]
  },
  {
   "cell_type": "code",
   "execution_count": 45,
   "id": "4f5afebb",
   "metadata": {},
   "outputs": [],
   "source": [
    "#Removing Outlier From numeric data.\n",
    "abs_zscores=np.abs(z_scores)\n",
    "filtered_entries=(abs_zscores<3).all(axis=1)\n",
    "bank_add=bank_add[filtered_entries]"
   ]
  },
  {
   "cell_type": "code",
   "execution_count": 46,
   "id": "d7922b6b",
   "metadata": {},
   "outputs": [
    {
     "data": {
      "text/html": [
       "<div>\n",
       "<style scoped>\n",
       "    .dataframe tbody tr th:only-of-type {\n",
       "        vertical-align: middle;\n",
       "    }\n",
       "\n",
       "    .dataframe tbody tr th {\n",
       "        vertical-align: top;\n",
       "    }\n",
       "\n",
       "    .dataframe thead th {\n",
       "        text-align: right;\n",
       "    }\n",
       "</style>\n",
       "<table border=\"1\" class=\"dataframe\">\n",
       "  <thead>\n",
       "    <tr style=\"text-align: right;\">\n",
       "      <th></th>\n",
       "      <th>age</th>\n",
       "      <th>duration</th>\n",
       "      <th>campaign</th>\n",
       "      <th>pdays</th>\n",
       "      <th>previous</th>\n",
       "      <th>emp.var.rate</th>\n",
       "      <th>cons.price.idx</th>\n",
       "      <th>cons.conf.idx</th>\n",
       "      <th>euribor3m</th>\n",
       "      <th>nr.employed</th>\n",
       "    </tr>\n",
       "  </thead>\n",
       "  <tbody>\n",
       "    <tr>\n",
       "      <th>count</th>\n",
       "      <td>37314.000000</td>\n",
       "      <td>37314.000000</td>\n",
       "      <td>37314.000000</td>\n",
       "      <td>37314.0</td>\n",
       "      <td>37314.000000</td>\n",
       "      <td>37314.000000</td>\n",
       "      <td>37314.000000</td>\n",
       "      <td>37314.000000</td>\n",
       "      <td>37314.000000</td>\n",
       "      <td>37314.000000</td>\n",
       "    </tr>\n",
       "    <tr>\n",
       "      <th>mean</th>\n",
       "      <td>39.664817</td>\n",
       "      <td>233.419708</td>\n",
       "      <td>2.295573</td>\n",
       "      <td>999.0</td>\n",
       "      <td>0.095648</td>\n",
       "      <td>0.182417</td>\n",
       "      <td>93.582158</td>\n",
       "      <td>-40.614375</td>\n",
       "      <td>3.746683</td>\n",
       "      <td>5173.691885</td>\n",
       "    </tr>\n",
       "    <tr>\n",
       "      <th>std</th>\n",
       "      <td>9.630071</td>\n",
       "      <td>190.951012</td>\n",
       "      <td>1.738323</td>\n",
       "      <td>0.0</td>\n",
       "      <td>0.294111</td>\n",
       "      <td>1.517054</td>\n",
       "      <td>0.562190</td>\n",
       "      <td>4.466439</td>\n",
       "      <td>1.666475</td>\n",
       "      <td>65.562738</td>\n",
       "    </tr>\n",
       "    <tr>\n",
       "      <th>min</th>\n",
       "      <td>17.000000</td>\n",
       "      <td>0.000000</td>\n",
       "      <td>1.000000</td>\n",
       "      <td>999.0</td>\n",
       "      <td>0.000000</td>\n",
       "      <td>-3.400000</td>\n",
       "      <td>92.201000</td>\n",
       "      <td>-50.800000</td>\n",
       "      <td>0.634000</td>\n",
       "      <td>4964.000000</td>\n",
       "    </tr>\n",
       "    <tr>\n",
       "      <th>25%</th>\n",
       "      <td>32.000000</td>\n",
       "      <td>101.000000</td>\n",
       "      <td>1.000000</td>\n",
       "      <td>999.0</td>\n",
       "      <td>0.000000</td>\n",
       "      <td>-1.800000</td>\n",
       "      <td>93.075000</td>\n",
       "      <td>-42.700000</td>\n",
       "      <td>1.405000</td>\n",
       "      <td>5099.000000</td>\n",
       "    </tr>\n",
       "    <tr>\n",
       "      <th>50%</th>\n",
       "      <td>38.000000</td>\n",
       "      <td>174.000000</td>\n",
       "      <td>2.000000</td>\n",
       "      <td>999.0</td>\n",
       "      <td>0.000000</td>\n",
       "      <td>1.100000</td>\n",
       "      <td>93.749000</td>\n",
       "      <td>-41.800000</td>\n",
       "      <td>4.857000</td>\n",
       "      <td>5196.000000</td>\n",
       "    </tr>\n",
       "    <tr>\n",
       "      <th>75%</th>\n",
       "      <td>47.000000</td>\n",
       "      <td>304.000000</td>\n",
       "      <td>3.000000</td>\n",
       "      <td>999.0</td>\n",
       "      <td>0.000000</td>\n",
       "      <td>1.400000</td>\n",
       "      <td>93.994000</td>\n",
       "      <td>-36.400000</td>\n",
       "      <td>4.961000</td>\n",
       "      <td>5228.000000</td>\n",
       "    </tr>\n",
       "    <tr>\n",
       "      <th>max</th>\n",
       "      <td>71.000000</td>\n",
       "      <td>1036.000000</td>\n",
       "      <td>10.000000</td>\n",
       "      <td>999.0</td>\n",
       "      <td>1.000000</td>\n",
       "      <td>1.400000</td>\n",
       "      <td>94.767000</td>\n",
       "      <td>-26.900000</td>\n",
       "      <td>5.045000</td>\n",
       "      <td>5228.000000</td>\n",
       "    </tr>\n",
       "  </tbody>\n",
       "</table>\n",
       "</div>"
      ],
      "text/plain": [
       "                age      duration      campaign    pdays      previous  \\\n",
       "count  37314.000000  37314.000000  37314.000000  37314.0  37314.000000   \n",
       "mean      39.664817    233.419708      2.295573    999.0      0.095648   \n",
       "std        9.630071    190.951012      1.738323      0.0      0.294111   \n",
       "min       17.000000      0.000000      1.000000    999.0      0.000000   \n",
       "25%       32.000000    101.000000      1.000000    999.0      0.000000   \n",
       "50%       38.000000    174.000000      2.000000    999.0      0.000000   \n",
       "75%       47.000000    304.000000      3.000000    999.0      0.000000   \n",
       "max       71.000000   1036.000000     10.000000    999.0      1.000000   \n",
       "\n",
       "       emp.var.rate  cons.price.idx  cons.conf.idx     euribor3m   nr.employed  \n",
       "count  37314.000000    37314.000000   37314.000000  37314.000000  37314.000000  \n",
       "mean       0.182417       93.582158     -40.614375      3.746683   5173.691885  \n",
       "std        1.517054        0.562190       4.466439      1.666475     65.562738  \n",
       "min       -3.400000       92.201000     -50.800000      0.634000   4964.000000  \n",
       "25%       -1.800000       93.075000     -42.700000      1.405000   5099.000000  \n",
       "50%        1.100000       93.749000     -41.800000      4.857000   5196.000000  \n",
       "75%        1.400000       93.994000     -36.400000      4.961000   5228.000000  \n",
       "max        1.400000       94.767000     -26.900000      5.045000   5228.000000  "
      ]
     },
     "execution_count": 46,
     "metadata": {},
     "output_type": "execute_result"
    }
   ],
   "source": [
    "bank_add.describe()"
   ]
  },
  {
   "cell_type": "markdown",
   "id": "21f30bd9",
   "metadata": {},
   "source": [
    "# Bivariant categorical contentgency tabel."
   ]
  },
  {
   "cell_type": "code",
   "execution_count": 47,
   "id": "5799120e",
   "metadata": {
    "scrolled": true
   },
   "outputs": [
    {
     "data": {
      "text/html": [
       "<div>\n",
       "<style scoped>\n",
       "    .dataframe tbody tr th:only-of-type {\n",
       "        vertical-align: middle;\n",
       "    }\n",
       "\n",
       "    .dataframe tbody tr th {\n",
       "        vertical-align: top;\n",
       "    }\n",
       "\n",
       "    .dataframe thead th {\n",
       "        text-align: right;\n",
       "    }\n",
       "</style>\n",
       "<table border=\"1\" class=\"dataframe\">\n",
       "  <thead>\n",
       "    <tr style=\"text-align: right;\">\n",
       "      <th>job</th>\n",
       "      <th>admin.</th>\n",
       "      <th>blue-collar</th>\n",
       "      <th>entrepreneur</th>\n",
       "      <th>housemaid</th>\n",
       "      <th>management</th>\n",
       "      <th>retired</th>\n",
       "      <th>self-employed</th>\n",
       "      <th>services</th>\n",
       "      <th>student</th>\n",
       "      <th>technician</th>\n",
       "      <th>unemployed</th>\n",
       "      <th>unknown</th>\n",
       "    </tr>\n",
       "    <tr>\n",
       "      <th>y</th>\n",
       "      <th></th>\n",
       "      <th></th>\n",
       "      <th></th>\n",
       "      <th></th>\n",
       "      <th></th>\n",
       "      <th></th>\n",
       "      <th></th>\n",
       "      <th></th>\n",
       "      <th></th>\n",
       "      <th></th>\n",
       "      <th></th>\n",
       "      <th></th>\n",
       "    </tr>\n",
       "  </thead>\n",
       "  <tbody>\n",
       "    <tr>\n",
       "      <th>no</th>\n",
       "      <td>8485</td>\n",
       "      <td>8225</td>\n",
       "      <td>1260</td>\n",
       "      <td>894</td>\n",
       "      <td>2462</td>\n",
       "      <td>1025</td>\n",
       "      <td>1209</td>\n",
       "      <td>3468</td>\n",
       "      <td>517</td>\n",
       "      <td>5719</td>\n",
       "      <td>813</td>\n",
       "      <td>269</td>\n",
       "    </tr>\n",
       "    <tr>\n",
       "      <th>yes</th>\n",
       "      <td>898</td>\n",
       "      <td>433</td>\n",
       "      <td>92</td>\n",
       "      <td>61</td>\n",
       "      <td>219</td>\n",
       "      <td>171</td>\n",
       "      <td>104</td>\n",
       "      <td>227</td>\n",
       "      <td>167</td>\n",
       "      <td>486</td>\n",
       "      <td>91</td>\n",
       "      <td>19</td>\n",
       "    </tr>\n",
       "  </tbody>\n",
       "</table>\n",
       "</div>"
      ],
      "text/plain": [
       "job  admin.  blue-collar  entrepreneur  housemaid  management  retired  \\\n",
       "y                                                                        \n",
       "no     8485         8225          1260        894        2462     1025   \n",
       "yes     898          433            92         61         219      171   \n",
       "\n",
       "job  self-employed  services  student  technician  unemployed  unknown  \n",
       "y                                                                       \n",
       "no            1209      3468      517        5719         813      269  \n",
       "yes            104       227      167         486          91       19  "
      ]
     },
     "execution_count": 47,
     "metadata": {},
     "output_type": "execute_result"
    }
   ],
   "source": [
    "crt=pd.crosstab(bank_add['y'],bank_add[cat[0]])\n",
    "crt"
   ]
  },
  {
   "cell_type": "markdown",
   "id": "40c808f8",
   "metadata": {},
   "source": [
    "# Chi Square Analysis "
   ]
  },
  {
   "cell_type": "code",
   "execution_count": 48,
   "id": "dd691a7f",
   "metadata": {},
   "outputs": [
    {
     "data": {
      "text/plain": [
       "['job : Dependent',\n",
       " 'marital : Dependent',\n",
       " 'education : Dependent',\n",
       " 'default : Dependent',\n",
       " 'housing : Independent',\n",
       " 'loan : Independent',\n",
       " 'contact : Dependent',\n",
       " 'month : Dependent',\n",
       " 'day_of_week : Independent',\n",
       " 'poutcome : Dependent',\n",
       " 'y : Dependent']"
      ]
     },
     "execution_count": 48,
     "metadata": {},
     "output_type": "execute_result"
    }
   ],
   "source": [
    "#probablity marigin 95%\n",
    "cat_dep=[]\n",
    "for name in cat:\n",
    "    crt=pd.crosstab(bank_add['y'],bank_add[name])\n",
    "    stat, p, dof, expected = chi2_contingency(crt)\n",
    "    prob = 0.95\n",
    "    critical = chi2.ppf(prob, dof)\n",
    "    if abs(stat) >= critical:\n",
    "        cat_dep.append('{} : Dependent'.format(name))\n",
    "    else:\n",
    "        cat_dep.append('{} : Independent'.format(name))\n",
    "cat_dep"
   ]
  },
  {
   "cell_type": "markdown",
   "id": "5d236ecb",
   "metadata": {},
   "source": [
    "# Z-Test"
   ]
  },
  {
   "cell_type": "code",
   "execution_count": 49,
   "id": "673a9f47",
   "metadata": {
    "scrolled": true
   },
   "outputs": [
    {
     "name": "stderr",
     "output_type": "stream",
     "text": [
      "C:\\Users\\Sriram\\anaconda3\\lib\\site-packages\\statsmodels\\stats\\weightstats.py:746: RuntimeWarning: invalid value encountered in double_scalars\n",
      "  zstat = (value1 - value2 - diff) / std_diff\n"
     ]
    },
    {
     "data": {
      "text/plain": [
       "['age : Dependent',\n",
       " 'duration : Dependent',\n",
       " 'campaign : Dependent',\n",
       " 'pdays : Independent',\n",
       " 'previous : Dependent',\n",
       " 'emp.var.rate : Dependent',\n",
       " 'cons.price.idx : Dependent',\n",
       " 'cons.conf.idx : Dependent',\n",
       " 'euribor3m : Dependent',\n",
       " 'nr.employed : Dependent']"
      ]
     },
     "execution_count": 49,
     "metadata": {},
     "output_type": "execute_result"
    }
   ],
   "source": [
    "from scipy import stats\n",
    "from statsmodels.stats import weightstats as stests\n",
    "num_dep=[]\n",
    "for name in num:\n",
    "    yes=bank_add[bank_add['y']=='yes']\n",
    "    no=bank_add[bank_add['y']=='no']\n",
    "    ztest,pval=stests.ztest(yes[name],no[name])\n",
    "    if pval<0.05:\n",
    "        num_dep.append('{} : Dependent'.format(name))\n",
    "    else:\n",
    "        num_dep.append('{} : Independent'.format(name))\n",
    "num_dep"
   ]
  },
  {
   "cell_type": "code",
   "execution_count": 50,
   "id": "7b0d1433",
   "metadata": {},
   "outputs": [],
   "source": [
    "bank=bank_add.drop(columns=['housing','loan','day_of_week','pdays'])"
   ]
  },
  {
   "cell_type": "code",
   "execution_count": 51,
   "id": "11b5092b",
   "metadata": {},
   "outputs": [
    {
     "data": {
      "text/plain": [
       "(37314, 17)"
      ]
     },
     "execution_count": 51,
     "metadata": {},
     "output_type": "execute_result"
    }
   ],
   "source": [
    "bank.shape"
   ]
  },
  {
   "cell_type": "code",
   "execution_count": 52,
   "id": "c1170b73",
   "metadata": {},
   "outputs": [
    {
     "data": {
      "image/png": "[encoded data removed]",
      "text/plain": [
       "<Figure size 432x288 with 2 Axes>"
      ]
     },
     "metadata": {
      "needs_background": "light"
     },
     "output_type": "display_data"
    }
   ],
   "source": [
    "corr = bank.corr()\n",
    "corr.style.background_gradient(cmap='coolwarm').set_precision(2)\n",
    "sns.heatmap(corr, annot=True)\n",
    "plt.rcParams[\"figure.figsize\"]=(2,1)\n",
    "plt.show()"
   ]
  },
  {
   "cell_type": "code",
   "execution_count": 53,
   "id": "3b9da3dd",
   "metadata": {},
   "outputs": [
    {
     "data": {
      "text/html": [
       "<div>\n",
       "<style scoped>\n",
       "    .dataframe tbody tr th:only-of-type {\n",
       "        vertical-align: middle;\n",
       "    }\n",
       "\n",
       "    .dataframe tbody tr th {\n",
       "        vertical-align: top;\n",
       "    }\n",
       "\n",
       "    .dataframe thead th {\n",
       "        text-align: right;\n",
       "    }\n",
       "</style>\n",
       "<table border=\"1\" class=\"dataframe\">\n",
       "  <thead>\n",
       "    <tr style=\"text-align: right;\">\n",
       "      <th></th>\n",
       "      <th>age</th>\n",
       "      <th>job</th>\n",
       "      <th>marital</th>\n",
       "      <th>education</th>\n",
       "      <th>default</th>\n",
       "      <th>contact</th>\n",
       "      <th>month</th>\n",
       "      <th>duration</th>\n",
       "      <th>campaign</th>\n",
       "      <th>previous</th>\n",
       "      <th>poutcome</th>\n",
       "      <th>cons.price.idx</th>\n",
       "      <th>cons.conf.idx</th>\n",
       "      <th>y</th>\n",
       "      <th>var_1</th>\n",
       "      <th>var_2</th>\n",
       "    </tr>\n",
       "  </thead>\n",
       "  <tbody>\n",
       "    <tr>\n",
       "      <th>0</th>\n",
       "      <td>56</td>\n",
       "      <td>housemaid</td>\n",
       "      <td>married</td>\n",
       "      <td>basic.4y</td>\n",
       "      <td>no</td>\n",
       "      <td>telephone</td>\n",
       "      <td>may</td>\n",
       "      <td>261</td>\n",
       "      <td>1</td>\n",
       "      <td>0</td>\n",
       "      <td>nonexistent</td>\n",
       "      <td>93.994</td>\n",
       "      <td>-36.4</td>\n",
       "      <td>no</td>\n",
       "      <td>2596.05</td>\n",
       "      <td>2.9785</td>\n",
       "    </tr>\n",
       "    <tr>\n",
       "      <th>1</th>\n",
       "      <td>57</td>\n",
       "      <td>services</td>\n",
       "      <td>married</td>\n",
       "      <td>high.school</td>\n",
       "      <td>unknown</td>\n",
       "      <td>telephone</td>\n",
       "      <td>may</td>\n",
       "      <td>149</td>\n",
       "      <td>1</td>\n",
       "      <td>0</td>\n",
       "      <td>nonexistent</td>\n",
       "      <td>93.994</td>\n",
       "      <td>-36.4</td>\n",
       "      <td>no</td>\n",
       "      <td>2596.05</td>\n",
       "      <td>2.9785</td>\n",
       "    </tr>\n",
       "    <tr>\n",
       "      <th>2</th>\n",
       "      <td>37</td>\n",
       "      <td>services</td>\n",
       "      <td>married</td>\n",
       "      <td>high.school</td>\n",
       "      <td>no</td>\n",
       "      <td>telephone</td>\n",
       "      <td>may</td>\n",
       "      <td>226</td>\n",
       "      <td>1</td>\n",
       "      <td>0</td>\n",
       "      <td>nonexistent</td>\n",
       "      <td>93.994</td>\n",
       "      <td>-36.4</td>\n",
       "      <td>no</td>\n",
       "      <td>2596.05</td>\n",
       "      <td>2.9785</td>\n",
       "    </tr>\n",
       "    <tr>\n",
       "      <th>3</th>\n",
       "      <td>40</td>\n",
       "      <td>admin.</td>\n",
       "      <td>married</td>\n",
       "      <td>basic.6y</td>\n",
       "      <td>no</td>\n",
       "      <td>telephone</td>\n",
       "      <td>may</td>\n",
       "      <td>151</td>\n",
       "      <td>1</td>\n",
       "      <td>0</td>\n",
       "      <td>nonexistent</td>\n",
       "      <td>93.994</td>\n",
       "      <td>-36.4</td>\n",
       "      <td>no</td>\n",
       "      <td>2596.05</td>\n",
       "      <td>2.9785</td>\n",
       "    </tr>\n",
       "    <tr>\n",
       "      <th>4</th>\n",
       "      <td>56</td>\n",
       "      <td>services</td>\n",
       "      <td>married</td>\n",
       "      <td>high.school</td>\n",
       "      <td>no</td>\n",
       "      <td>telephone</td>\n",
       "      <td>may</td>\n",
       "      <td>307</td>\n",
       "      <td>1</td>\n",
       "      <td>0</td>\n",
       "      <td>nonexistent</td>\n",
       "      <td>93.994</td>\n",
       "      <td>-36.4</td>\n",
       "      <td>no</td>\n",
       "      <td>2596.05</td>\n",
       "      <td>2.9785</td>\n",
       "    </tr>\n",
       "    <tr>\n",
       "      <th>...</th>\n",
       "      <td>...</td>\n",
       "      <td>...</td>\n",
       "      <td>...</td>\n",
       "      <td>...</td>\n",
       "      <td>...</td>\n",
       "      <td>...</td>\n",
       "      <td>...</td>\n",
       "      <td>...</td>\n",
       "      <td>...</td>\n",
       "      <td>...</td>\n",
       "      <td>...</td>\n",
       "      <td>...</td>\n",
       "      <td>...</td>\n",
       "      <td>...</td>\n",
       "      <td>...</td>\n",
       "      <td>...</td>\n",
       "    </tr>\n",
       "    <tr>\n",
       "      <th>41180</th>\n",
       "      <td>36</td>\n",
       "      <td>admin.</td>\n",
       "      <td>married</td>\n",
       "      <td>university.degree</td>\n",
       "      <td>no</td>\n",
       "      <td>cellular</td>\n",
       "      <td>nov</td>\n",
       "      <td>254</td>\n",
       "      <td>2</td>\n",
       "      <td>0</td>\n",
       "      <td>nonexistent</td>\n",
       "      <td>94.767</td>\n",
       "      <td>-50.8</td>\n",
       "      <td>no</td>\n",
       "      <td>2481.45</td>\n",
       "      <td>-0.0360</td>\n",
       "    </tr>\n",
       "    <tr>\n",
       "      <th>41181</th>\n",
       "      <td>37</td>\n",
       "      <td>admin.</td>\n",
       "      <td>married</td>\n",
       "      <td>university.degree</td>\n",
       "      <td>no</td>\n",
       "      <td>cellular</td>\n",
       "      <td>nov</td>\n",
       "      <td>281</td>\n",
       "      <td>1</td>\n",
       "      <td>0</td>\n",
       "      <td>nonexistent</td>\n",
       "      <td>94.767</td>\n",
       "      <td>-50.8</td>\n",
       "      <td>yes</td>\n",
       "      <td>2481.45</td>\n",
       "      <td>-0.0360</td>\n",
       "    </tr>\n",
       "    <tr>\n",
       "      <th>41184</th>\n",
       "      <td>46</td>\n",
       "      <td>blue-collar</td>\n",
       "      <td>married</td>\n",
       "      <td>professional.course</td>\n",
       "      <td>no</td>\n",
       "      <td>cellular</td>\n",
       "      <td>nov</td>\n",
       "      <td>383</td>\n",
       "      <td>1</td>\n",
       "      <td>0</td>\n",
       "      <td>nonexistent</td>\n",
       "      <td>94.767</td>\n",
       "      <td>-50.8</td>\n",
       "      <td>no</td>\n",
       "      <td>2481.45</td>\n",
       "      <td>-0.0360</td>\n",
       "    </tr>\n",
       "    <tr>\n",
       "      <th>41185</th>\n",
       "      <td>56</td>\n",
       "      <td>retired</td>\n",
       "      <td>married</td>\n",
       "      <td>university.degree</td>\n",
       "      <td>no</td>\n",
       "      <td>cellular</td>\n",
       "      <td>nov</td>\n",
       "      <td>189</td>\n",
       "      <td>2</td>\n",
       "      <td>0</td>\n",
       "      <td>nonexistent</td>\n",
       "      <td>94.767</td>\n",
       "      <td>-50.8</td>\n",
       "      <td>no</td>\n",
       "      <td>2481.45</td>\n",
       "      <td>-0.0360</td>\n",
       "    </tr>\n",
       "    <tr>\n",
       "      <th>41186</th>\n",
       "      <td>44</td>\n",
       "      <td>technician</td>\n",
       "      <td>married</td>\n",
       "      <td>professional.course</td>\n",
       "      <td>no</td>\n",
       "      <td>cellular</td>\n",
       "      <td>nov</td>\n",
       "      <td>442</td>\n",
       "      <td>1</td>\n",
       "      <td>0</td>\n",
       "      <td>nonexistent</td>\n",
       "      <td>94.767</td>\n",
       "      <td>-50.8</td>\n",
       "      <td>yes</td>\n",
       "      <td>2481.45</td>\n",
       "      <td>-0.0360</td>\n",
       "    </tr>\n",
       "  </tbody>\n",
       "</table>\n",
       "<p>37314 rows × 16 columns</p>\n",
       "</div>"
      ],
      "text/plain": [
       "       age          job  marital            education  default    contact  \\\n",
       "0       56    housemaid  married             basic.4y       no  telephone   \n",
       "1       57     services  married          high.school  unknown  telephone   \n",
       "2       37     services  married          high.school       no  telephone   \n",
       "3       40       admin.  married             basic.6y       no  telephone   \n",
       "4       56     services  married          high.school       no  telephone   \n",
       "...    ...          ...      ...                  ...      ...        ...   \n",
       "41180   36       admin.  married    university.degree       no   cellular   \n",
       "41181   37       admin.  married    university.degree       no   cellular   \n",
       "41184   46  blue-collar  married  professional.course       no   cellular   \n",
       "41185   56      retired  married    university.degree       no   cellular   \n",
       "41186   44   technician  married  professional.course       no   cellular   \n",
       "\n",
       "      month  duration  campaign  previous     poutcome  cons.price.idx  \\\n",
       "0       may       261         1         0  nonexistent          93.994   \n",
       "1       may       149         1         0  nonexistent          93.994   \n",
       "2       may       226         1         0  nonexistent          93.994   \n",
       "3       may       151         1         0  nonexistent          93.994   \n",
       "4       may       307         1         0  nonexistent          93.994   \n",
       "...     ...       ...       ...       ...          ...             ...   \n",
       "41180   nov       254         2         0  nonexistent          94.767   \n",
       "41181   nov       281         1         0  nonexistent          94.767   \n",
       "41184   nov       383         1         0  nonexistent          94.767   \n",
       "41185   nov       189         2         0  nonexistent          94.767   \n",
       "41186   nov       442         1         0  nonexistent          94.767   \n",
       "\n",
       "       cons.conf.idx    y    var_1   var_2  \n",
       "0              -36.4   no  2596.05  2.9785  \n",
       "1              -36.4   no  2596.05  2.9785  \n",
       "2              -36.4   no  2596.05  2.9785  \n",
       "3              -36.4   no  2596.05  2.9785  \n",
       "4              -36.4   no  2596.05  2.9785  \n",
       "...              ...  ...      ...     ...  \n",
       "41180          -50.8   no  2481.45 -0.0360  \n",
       "41181          -50.8  yes  2481.45 -0.0360  \n",
       "41184          -50.8   no  2481.45 -0.0360  \n",
       "41185          -50.8   no  2481.45 -0.0360  \n",
       "41186          -50.8  yes  2481.45 -0.0360  \n",
       "\n",
       "[37314 rows x 16 columns]"
      ]
     },
     "execution_count": 53,
     "metadata": {},
     "output_type": "execute_result"
    }
   ],
   "source": [
    "bank_1=bank\n",
    "bank_1['var_1'] = (bank_1['emp.var.rate']+bank_1['nr.employed'])/2\n",
    "bank_1['var_2'] = (bank_1['emp.var.rate']+bank_1['euribor3m'])/2\n",
    "bank_1.drop(columns=['emp.var.rate','nr.employed','euribor3m'])\n"
   ]
  },
  {
   "cell_type": "code",
   "execution_count": 54,
   "id": "8d1ab379",
   "metadata": {},
   "outputs": [
    {
     "data": {
      "text/html": [
       "<div>\n",
       "<style scoped>\n",
       "    .dataframe tbody tr th:only-of-type {\n",
       "        vertical-align: middle;\n",
       "    }\n",
       "\n",
       "    .dataframe tbody tr th {\n",
       "        vertical-align: top;\n",
       "    }\n",
       "\n",
       "    .dataframe thead th {\n",
       "        text-align: right;\n",
       "    }\n",
       "</style>\n",
       "<table border=\"1\" class=\"dataframe\">\n",
       "  <thead>\n",
       "    <tr style=\"text-align: right;\">\n",
       "      <th></th>\n",
       "      <th>age</th>\n",
       "      <th>duration</th>\n",
       "      <th>campaign</th>\n",
       "      <th>previous</th>\n",
       "      <th>emp.var.rate</th>\n",
       "      <th>cons.price.idx</th>\n",
       "      <th>cons.conf.idx</th>\n",
       "      <th>euribor3m</th>\n",
       "      <th>nr.employed</th>\n",
       "      <th>var_1</th>\n",
       "      <th>var_2</th>\n",
       "    </tr>\n",
       "  </thead>\n",
       "  <tbody>\n",
       "    <tr>\n",
       "      <th>count</th>\n",
       "      <td>37314.000000</td>\n",
       "      <td>37314.000000</td>\n",
       "      <td>37314.000000</td>\n",
       "      <td>37314.000000</td>\n",
       "      <td>37314.000000</td>\n",
       "      <td>37314.000000</td>\n",
       "      <td>37314.000000</td>\n",
       "      <td>37314.000000</td>\n",
       "      <td>37314.000000</td>\n",
       "      <td>37314.000000</td>\n",
       "      <td>37314.000000</td>\n",
       "    </tr>\n",
       "    <tr>\n",
       "      <th>mean</th>\n",
       "      <td>39.664817</td>\n",
       "      <td>233.419708</td>\n",
       "      <td>2.295573</td>\n",
       "      <td>0.095648</td>\n",
       "      <td>0.182417</td>\n",
       "      <td>93.582158</td>\n",
       "      <td>-40.614375</td>\n",
       "      <td>3.746683</td>\n",
       "      <td>5173.691885</td>\n",
       "      <td>2586.937151</td>\n",
       "      <td>1.964550</td>\n",
       "    </tr>\n",
       "    <tr>\n",
       "      <th>std</th>\n",
       "      <td>9.630071</td>\n",
       "      <td>190.951012</td>\n",
       "      <td>1.738323</td>\n",
       "      <td>0.294111</td>\n",
       "      <td>1.517054</td>\n",
       "      <td>0.562190</td>\n",
       "      <td>4.466439</td>\n",
       "      <td>1.666475</td>\n",
       "      <td>65.562738</td>\n",
       "      <td>33.484204</td>\n",
       "      <td>1.581969</td>\n",
       "    </tr>\n",
       "    <tr>\n",
       "      <th>min</th>\n",
       "      <td>17.000000</td>\n",
       "      <td>0.000000</td>\n",
       "      <td>1.000000</td>\n",
       "      <td>0.000000</td>\n",
       "      <td>-3.400000</td>\n",
       "      <td>92.201000</td>\n",
       "      <td>-50.800000</td>\n",
       "      <td>0.634000</td>\n",
       "      <td>4964.000000</td>\n",
       "      <td>2481.450000</td>\n",
       "      <td>-1.343000</td>\n",
       "    </tr>\n",
       "    <tr>\n",
       "      <th>25%</th>\n",
       "      <td>32.000000</td>\n",
       "      <td>101.000000</td>\n",
       "      <td>1.000000</td>\n",
       "      <td>0.000000</td>\n",
       "      <td>-1.800000</td>\n",
       "      <td>93.075000</td>\n",
       "      <td>-42.700000</td>\n",
       "      <td>1.405000</td>\n",
       "      <td>5099.000000</td>\n",
       "      <td>2548.600000</td>\n",
       "      <td>-0.197500</td>\n",
       "    </tr>\n",
       "    <tr>\n",
       "      <th>50%</th>\n",
       "      <td>38.000000</td>\n",
       "      <td>174.000000</td>\n",
       "      <td>2.000000</td>\n",
       "      <td>0.000000</td>\n",
       "      <td>1.100000</td>\n",
       "      <td>93.749000</td>\n",
       "      <td>-41.800000</td>\n",
       "      <td>4.857000</td>\n",
       "      <td>5196.000000</td>\n",
       "      <td>2597.950000</td>\n",
       "      <td>2.978500</td>\n",
       "    </tr>\n",
       "    <tr>\n",
       "      <th>75%</th>\n",
       "      <td>47.000000</td>\n",
       "      <td>304.000000</td>\n",
       "      <td>3.000000</td>\n",
       "      <td>0.000000</td>\n",
       "      <td>1.400000</td>\n",
       "      <td>93.994000</td>\n",
       "      <td>-36.400000</td>\n",
       "      <td>4.961000</td>\n",
       "      <td>5228.000000</td>\n",
       "      <td>2614.700000</td>\n",
       "      <td>3.180500</td>\n",
       "    </tr>\n",
       "    <tr>\n",
       "      <th>max</th>\n",
       "      <td>71.000000</td>\n",
       "      <td>1036.000000</td>\n",
       "      <td>10.000000</td>\n",
       "      <td>1.000000</td>\n",
       "      <td>1.400000</td>\n",
       "      <td>94.767000</td>\n",
       "      <td>-26.900000</td>\n",
       "      <td>5.045000</td>\n",
       "      <td>5228.000000</td>\n",
       "      <td>2614.700000</td>\n",
       "      <td>3.185000</td>\n",
       "    </tr>\n",
       "  </tbody>\n",
       "</table>\n",
       "</div>"
      ],
      "text/plain": [
       "                age      duration      campaign      previous  emp.var.rate  \\\n",
       "count  37314.000000  37314.000000  37314.000000  37314.000000  37314.000000   \n",
       "mean      39.664817    233.419708      2.295573      0.095648      0.182417   \n",
       "std        9.630071    190.951012      1.738323      0.294111      1.517054   \n",
       "min       17.000000      0.000000      1.000000      0.000000     -3.400000   \n",
       "25%       32.000000    101.000000      1.000000      0.000000     -1.800000   \n",
       "50%       38.000000    174.000000      2.000000      0.000000      1.100000   \n",
       "75%       47.000000    304.000000      3.000000      0.000000      1.400000   \n",
       "max       71.000000   1036.000000     10.000000      1.000000      1.400000   \n",
       "\n",
       "       cons.price.idx  cons.conf.idx     euribor3m   nr.employed  \\\n",
       "count    37314.000000   37314.000000  37314.000000  37314.000000   \n",
       "mean        93.582158     -40.614375      3.746683   5173.691885   \n",
       "std          0.562190       4.466439      1.666475     65.562738   \n",
       "min         92.201000     -50.800000      0.634000   4964.000000   \n",
       "25%         93.075000     -42.700000      1.405000   5099.000000   \n",
       "50%         93.749000     -41.800000      4.857000   5196.000000   \n",
       "75%         93.994000     -36.400000      4.961000   5228.000000   \n",
       "max         94.767000     -26.900000      5.045000   5228.000000   \n",
       "\n",
       "              var_1         var_2  \n",
       "count  37314.000000  37314.000000  \n",
       "mean    2586.937151      1.964550  \n",
       "std       33.484204      1.581969  \n",
       "min     2481.450000     -1.343000  \n",
       "25%     2548.600000     -0.197500  \n",
       "50%     2597.950000      2.978500  \n",
       "75%     2614.700000      3.180500  \n",
       "max     2614.700000      3.185000  "
      ]
     },
     "execution_count": 54,
     "metadata": {},
     "output_type": "execute_result"
    }
   ],
   "source": [
    "bank_1.describe()"
   ]
  },
  {
   "cell_type": "code",
   "execution_count": 55,
   "id": "743accea",
   "metadata": {},
   "outputs": [
    {
     "data": {
      "text/html": [
       "<div>\n",
       "<style scoped>\n",
       "    .dataframe tbody tr th:only-of-type {\n",
       "        vertical-align: middle;\n",
       "    }\n",
       "\n",
       "    .dataframe tbody tr th {\n",
       "        vertical-align: top;\n",
       "    }\n",
       "\n",
       "    .dataframe thead th {\n",
       "        text-align: right;\n",
       "    }\n",
       "</style>\n",
       "<table border=\"1\" class=\"dataframe\">\n",
       "  <thead>\n",
       "    <tr style=\"text-align: right;\">\n",
       "      <th></th>\n",
       "      <th>var_1</th>\n",
       "      <th>var_2</th>\n",
       "    </tr>\n",
       "  </thead>\n",
       "  <tbody>\n",
       "    <tr>\n",
       "      <th>count</th>\n",
       "      <td>37314.000000</td>\n",
       "      <td>37314.000000</td>\n",
       "    </tr>\n",
       "    <tr>\n",
       "      <th>mean</th>\n",
       "      <td>2586.937151</td>\n",
       "      <td>1.964550</td>\n",
       "    </tr>\n",
       "    <tr>\n",
       "      <th>std</th>\n",
       "      <td>33.484204</td>\n",
       "      <td>1.581969</td>\n",
       "    </tr>\n",
       "    <tr>\n",
       "      <th>min</th>\n",
       "      <td>2481.450000</td>\n",
       "      <td>-1.343000</td>\n",
       "    </tr>\n",
       "    <tr>\n",
       "      <th>25%</th>\n",
       "      <td>2548.600000</td>\n",
       "      <td>-0.197500</td>\n",
       "    </tr>\n",
       "    <tr>\n",
       "      <th>50%</th>\n",
       "      <td>2597.950000</td>\n",
       "      <td>2.978500</td>\n",
       "    </tr>\n",
       "    <tr>\n",
       "      <th>75%</th>\n",
       "      <td>2614.700000</td>\n",
       "      <td>3.180500</td>\n",
       "    </tr>\n",
       "    <tr>\n",
       "      <th>max</th>\n",
       "      <td>2614.700000</td>\n",
       "      <td>3.185000</td>\n",
       "    </tr>\n",
       "  </tbody>\n",
       "</table>\n",
       "</div>"
      ],
      "text/plain": [
       "              var_1         var_2\n",
       "count  37314.000000  37314.000000\n",
       "mean    2586.937151      1.964550\n",
       "std       33.484204      1.581969\n",
       "min     2481.450000     -1.343000\n",
       "25%     2548.600000     -0.197500\n",
       "50%     2597.950000      2.978500\n",
       "75%     2614.700000      3.180500\n",
       "max     2614.700000      3.185000"
      ]
     },
     "execution_count": 55,
     "metadata": {},
     "output_type": "execute_result"
    }
   ],
   "source": [
    "bank_1[['var_1','var_2']].describe()"
   ]
  },
  {
   "cell_type": "markdown",
   "id": "79741e80",
   "metadata": {},
   "source": [
    "# Label Encoding"
   ]
  },
  {
   "cell_type": "code",
   "execution_count": 56,
   "id": "c02cb032",
   "metadata": {},
   "outputs": [
    {
     "data": {
      "text/plain": [
       "array(['admin.', 'blue-collar', 'entrepreneur', 'housemaid', 'management',\n",
       "       'retired', 'self-employed', 'services', 'student', 'technician',\n",
       "       'unemployed', 'unknown'], dtype=object)"
      ]
     },
     "execution_count": 56,
     "metadata": {},
     "output_type": "execute_result"
    }
   ],
   "source": [
    "#Label Encoder.\n",
    "le_job = LabelEncoder()\n",
    "bank_1['job'] = le_job.fit_transform(bank_1['job'])\n",
    "le_job.classes_"
   ]
  },
  {
   "cell_type": "code",
   "execution_count": 57,
   "id": "e728fac7",
   "metadata": {},
   "outputs": [
    {
     "data": {
      "text/plain": [
       "0    3\n",
       "1    7\n",
       "2    7\n",
       "3    0\n",
       "4    7\n",
       "Name: job, dtype: int32"
      ]
     },
     "execution_count": 57,
     "metadata": {},
     "output_type": "execute_result"
    }
   ],
   "source": [
    "bank_1['job'].head()"
   ]
  },
  {
   "cell_type": "code",
   "execution_count": 58,
   "id": "f611a3fc",
   "metadata": {},
   "outputs": [
    {
     "data": {
      "text/plain": [
       "array(['housemaid', 'services', 'services', ..., 'blue-collar', 'retired',\n",
       "       'technician'], dtype=object)"
      ]
     },
     "execution_count": 58,
     "metadata": {},
     "output_type": "execute_result"
    }
   ],
   "source": [
    "le_job.inverse_transform(bank_1['job'])"
   ]
  },
  {
   "cell_type": "code",
   "execution_count": 59,
   "id": "fbd5255d",
   "metadata": {},
   "outputs": [
    {
     "data": {
      "text/plain": [
       "['job',\n",
       " 'marital',\n",
       " 'education',\n",
       " 'default',\n",
       " 'housing',\n",
       " 'loan',\n",
       " 'contact',\n",
       " 'month',\n",
       " 'day_of_week',\n",
       " 'poutcome',\n",
       " 'y']"
      ]
     },
     "execution_count": 59,
     "metadata": {},
     "output_type": "execute_result"
    }
   ],
   "source": [
    "cat"
   ]
  },
  {
   "cell_type": "code",
   "execution_count": 60,
   "id": "19495e71",
   "metadata": {},
   "outputs": [
    {
     "data": {
      "text/plain": [
       "array(['divorced', 'married', 'single', 'unknown'], dtype=object)"
      ]
     },
     "execution_count": 60,
     "metadata": {},
     "output_type": "execute_result"
    }
   ],
   "source": [
    "le_marital = LabelEncoder()\n",
    "bank_1['marital'] =le_marital.fit_transform(bank_1['marital'])\n",
    "le_marital.classes_"
   ]
  },
  {
   "cell_type": "code",
   "execution_count": 61,
   "id": "1c813b95",
   "metadata": {},
   "outputs": [
    {
     "data": {
      "text/plain": [
       "array(['basic.4y', 'basic.6y', 'basic.9y', 'high.school', 'illiterate',\n",
       "       'professional.course', 'university.degree', 'unknown'],\n",
       "      dtype=object)"
      ]
     },
     "execution_count": 61,
     "metadata": {},
     "output_type": "execute_result"
    }
   ],
   "source": [
    "le_education = LabelEncoder()\n",
    "bank_1['education'] = le_education.fit_transform(bank_1['education'])\n",
    "le_education.classes_"
   ]
  },
  {
   "cell_type": "code",
   "execution_count": 62,
   "id": "1e02ef89",
   "metadata": {},
   "outputs": [
    {
     "data": {
      "text/plain": [
       "array(['no', 'unknown', 'yes'], dtype=object)"
      ]
     },
     "execution_count": 62,
     "metadata": {},
     "output_type": "execute_result"
    }
   ],
   "source": [
    "le_default = LabelEncoder()\n",
    "bank_1['default'] = le_default.fit_transform(bank_1['default'])\n",
    "le_default.classes_"
   ]
  },
  {
   "cell_type": "code",
   "execution_count": 63,
   "id": "2d6ee56a",
   "metadata": {},
   "outputs": [
    {
     "data": {
      "text/plain": [
       "array(['cellular', 'telephone'], dtype=object)"
      ]
     },
     "execution_count": 63,
     "metadata": {},
     "output_type": "execute_result"
    }
   ],
   "source": [
    "le_contact = LabelEncoder()\n",
    "bank_1['contact'] = le_contact.fit_transform(bank_1['contact'])\n",
    "le_contact.classes_"
   ]
  },
  {
   "cell_type": "code",
   "execution_count": 64,
   "id": "6fd1f122",
   "metadata": {},
   "outputs": [
    {
     "data": {
      "text/plain": [
       "array(['apr', 'aug', 'dec', 'jul', 'jun', 'mar', 'may', 'nov', 'oct',\n",
       "       'sep'], dtype=object)"
      ]
     },
     "execution_count": 64,
     "metadata": {},
     "output_type": "execute_result"
    }
   ],
   "source": [
    "le_month = LabelEncoder()\n",
    "bank_1['month'] = le_month.fit_transform(bank_1['month'])\n",
    "le_month.classes_"
   ]
  },
  {
   "cell_type": "code",
   "execution_count": 65,
   "id": "ce386b67",
   "metadata": {},
   "outputs": [
    {
     "data": {
      "text/plain": [
       "array(['failure', 'nonexistent'], dtype=object)"
      ]
     },
     "execution_count": 65,
     "metadata": {},
     "output_type": "execute_result"
    }
   ],
   "source": [
    "le_poutcome = LabelEncoder()\n",
    "bank_1['poutcome'] = le_poutcome.fit_transform(bank_1['poutcome'])\n",
    "le_poutcome.classes_"
   ]
  },
  {
   "cell_type": "code",
   "execution_count": 66,
   "id": "d35f7e8c",
   "metadata": {},
   "outputs": [
    {
     "data": {
      "text/plain": [
       "array(['no', 'yes'], dtype=object)"
      ]
     },
     "execution_count": 66,
     "metadata": {},
     "output_type": "execute_result"
    }
   ],
   "source": [
    "le_y = LabelEncoder()\n",
    "bank_1['y'] = le_y.fit_transform(bank_1['y'])\n",
    "le_y.classes_"
   ]
  },
  {
   "cell_type": "code",
   "execution_count": 67,
   "id": "cc00f76e",
   "metadata": {},
   "outputs": [],
   "source": [
    "y=bank_1['y']\n",
    "x=bank_1.drop(columns=['y'])"
   ]
  },
  {
   "cell_type": "code",
   "execution_count": 68,
   "id": "10869992",
   "metadata": {},
   "outputs": [
    {
     "data": {
      "text/plain": [
       "((26119, 18), (11195, 18), (26119,), (11195,))"
      ]
     },
     "execution_count": 68,
     "metadata": {},
     "output_type": "execute_result"
    }
   ],
   "source": [
    "from sklearn.model_selection import train_test_split\n",
    "x_train,x_val,y_train,y_val=train_test_split(x,y,test_size=0.3,stratify=bank_1['y'],random_state=42)\n",
    "x_train.shape,x_val.shape,y_train.shape,y_val.shape"
   ]
  },
  {
   "cell_type": "markdown",
   "id": "56d49630",
   "metadata": {},
   "source": [
    "# ML-Algorithms, ROC's, AUC'c "
   ]
  },
  {
   "cell_type": "code",
   "execution_count": 69,
   "id": "a5f9eee1",
   "metadata": {},
   "outputs": [
    {
     "name": "stdout",
     "output_type": "stream",
     "text": [
      "Accuracy : 0.9280928986154533\n",
      "Precision : 0.33370786516853934\n",
      "Recall : 0.33370786516853934\n",
      "F1 Score : 0.4245889921372409\n"
     ]
    }
   ],
   "source": [
    "from sklearn.neighbors import KNeighborsClassifier\n",
    "neigh = KNeighborsClassifier(n_neighbors=15)\n",
    "neigh.fit(x_train, y_train)\n",
    "neigh_preds=neigh.predict(x_val)\n",
    "print('Accuracy : {}'.format(accuracy_score(y_val, neigh_preds)))\n",
    "print('Precision : {}'.format(precision_score(neigh_preds,y_val)))\n",
    "print('Recall : {}'.format(recall_score(y_val, neigh_preds)))\n",
    "print('F1 Score : {}'.format(f1_score(y_val, neigh_preds)))"
   ]
  },
  {
   "cell_type": "code",
   "execution_count": 95,
   "id": "c8e55033",
   "metadata": {},
   "outputs": [
    {
     "name": "stdout",
     "output_type": "stream",
     "text": [
      "Area under Curve(AUC)\n"
     ]
    },
    {
     "name": "stderr",
     "output_type": "stream",
     "text": [
      "No handles with labels found to put in legend.\n"
     ]
    },
    {
     "name": "stdout",
     "output_type": "stream",
     "text": [
      "AUC: 0.8991430471735659\n",
      "\n",
      "Plot Receiver Operating Characteristic(ROC)\n",
      "Term Deposit, area under curve=0.8991430471735659\n"
     ]
    },
    {
     "data": {
      "text/plain": [
       "Text(0.5, 1.0, 'ROC for predicting Deposits')"
      ]
     },
     "execution_count": 95,
     "metadata": {},
     "output_type": "execute_result"
    },
    {
     "data": {
      "image/png": "[encoded data removed]",
      "text/plain": [
       "<Figure size 144x72 with 1 Axes>"
      ]
     },
     "metadata": {
      "needs_background": "light"
     },
     "output_type": "display_data"
    }
   ],
   "source": [
    "from sklearn.metrics import RocCurveDisplay\n",
    "print(\"Area under Curve(AUC)\")\n",
    "y_pred_proba = neigh.predict_proba(x_val)[::,1]\n",
    "fpr,tpr,_ = metrics.roc_curve(y_val,  y_pred_proba)\n",
    "\n",
    "auc_score = metrics.roc_auc_score(y_val, y_pred_proba)\n",
    "print('AUC:', auc_score)\n",
    "\n",
    "print(\"\\nPlot Receiver Operating Characteristic(ROC)\")\n",
    "plt.plot(fpr,tpr,color=\"violet\")\n",
    "print(\"Term Deposit, area under curve=\"+str(auc_score))\n",
    "plt.legend(loc=4)\n",
    "plt.xlabel(\"False Positive Rate \")\n",
    "plt.ylabel(\"True Positive Rate\")\n",
    "plt.title(\"ROC for predicting Deposits\")"
   ]
  },
  {
   "cell_type": "code",
   "execution_count": 71,
   "id": "d7b0f652",
   "metadata": {},
   "outputs": [
    {
     "name": "stdout",
     "output_type": "stream",
     "text": [
      "Descision Tree\n",
      "Accuracy : 0.9062081286288521\n",
      "Precision : 0.4154334038054968\n",
      "Recall : 0.44157303370786516\n",
      "F1 Score : 0.42810457516339867\n"
     ]
    }
   ],
   "source": [
    "from sklearn.tree import DecisionTreeClassifier\n",
    "d_tree = DecisionTreeClassifier(random_state=0)\n",
    "d_tree.fit(x_train, y_train)\n",
    "d_tree_preds=d_tree.predict(x_val)\n",
    "print('Descision Tree')\n",
    "print('Accuracy : {}'.format(accuracy_score(y_val, d_tree_preds)))\n",
    "print('Precision : {}'.format(precision_score(y_val, d_tree_preds)))\n",
    "print('Recall : {}'.format(recall_score(y_val, d_tree_preds)))\n",
    "print('F1 Score : {}'.format(f1_score(y_val, d_tree_preds)))"
   ]
  },
  {
   "cell_type": "code",
   "execution_count": 97,
   "id": "322c69f2",
   "metadata": {},
   "outputs": [
    {
     "name": "stderr",
     "output_type": "stream",
     "text": [
      "No handles with labels found to put in legend.\n"
     ]
    },
    {
     "name": "stdout",
     "output_type": "stream",
     "text": [
      "Area under Curve(AUC)\n",
      "AUC: 0.6939548817253542\n",
      "\n",
      "Plot Receiver Operating Characteristic(ROC)\n",
      "Term Deposit, area under curve=0.6939548817253542\n"
     ]
    },
    {
     "data": {
      "image/png": "[encoded data removed]",
      "text/plain": [
       "<Figure size 144x72 with 1 Axes>"
      ]
     },
     "metadata": {
      "needs_background": "light"
     },
     "output_type": "display_data"
    }
   ],
   "source": [
    "print(\"Area under Curve(AUC)\")\n",
    "y_pred_proba = d_tree.predict_proba(x_val)[::,1]\n",
    "fpr,tpr,_ = metrics.roc_curve(y_val,  y_pred_proba)\n",
    "\n",
    "auc_score = metrics.roc_auc_score(y_val, y_pred_proba)\n",
    "print('AUC:', auc_score)\n",
    "\n",
    "print(\"\\nPlot Receiver Operating Characteristic(ROC)\")\n",
    "plt.plot(fpr,tpr,color=\"violet\")\n",
    "print(\"Term Deposit, area under curve=\"+str(auc_score))\n",
    "plt.legend(loc=4)\n",
    "plt.xlabel(\"False Positive Rate \")\n",
    "plt.ylabel(\"True Positive Rate\")\n",
    "plt.title(\"ROC for predicting Deposits\")\n",
    "plt.show()"
   ]
  },
  {
   "cell_type": "code",
   "execution_count": 73,
   "id": "ae8f8db0",
   "metadata": {},
   "outputs": [
    {
     "name": "stdout",
     "output_type": "stream",
     "text": [
      "Random Forest\n",
      "Accuracy : 0.9312192943278249\n",
      "Precision : 0.6090909090909091\n",
      "Recall : 0.37640449438202245\n",
      "F1 Score : 0.4652777777777778\n"
     ]
    }
   ],
   "source": [
    "from sklearn.ensemble import RandomForestClassifier\n",
    "rf = RandomForestClassifier(max_depth=None, random_state=0,n_estimators=100)\n",
    "rf.fit(x_train, y_train)\n",
    "rf_preds=rf.predict(x_val)\n",
    "print('Random Forest')\n",
    "print('Accuracy : {}'.format(accuracy_score(y_val, rf_preds)))\n",
    "print('Precision : {}'.format(precision_score(y_val, rf_preds)))\n",
    "print('Recall : {}'.format(recall_score(y_val, rf_preds)))\n",
    "print('F1 Score : {}'.format(f1_score(y_val, rf_preds)))"
   ]
  },
  {
   "cell_type": "code",
   "execution_count": 98,
   "id": "dfd3be47",
   "metadata": {},
   "outputs": [
    {
     "name": "stdout",
     "output_type": "stream",
     "text": [
      "Area under Curve(AUC)\n"
     ]
    },
    {
     "name": "stderr",
     "output_type": "stream",
     "text": [
      "No handles with labels found to put in legend.\n"
     ]
    },
    {
     "name": "stdout",
     "output_type": "stream",
     "text": [
      "AUC: 0.9416380179797088\n",
      "\n",
      "Plot Receiver Operating Characteristic(ROC)\n",
      "Term Deposit, area under curve=0.9416380179797088\n"
     ]
    },
    {
     "data": {
      "image/png": "[encoded data removed]",
      "text/plain": [
       "<Figure size 144x72 with 1 Axes>"
      ]
     },
     "metadata": {
      "needs_background": "light"
     },
     "output_type": "display_data"
    }
   ],
   "source": [
    "print(\"Area under Curve(AUC)\")\n",
    "y_pred_proba = rf.predict_proba(x_val)[::,1]\n",
    "fpr,tpr,_ = metrics.roc_curve(y_val,  y_pred_proba)\n",
    "\n",
    "auc_score = metrics.roc_auc_score(y_val, y_pred_proba)\n",
    "print('AUC:', auc_score)\n",
    "\n",
    "print(\"\\nPlot Receiver Operating Characteristic(ROC)\")\n",
    "plt.plot(fpr,tpr,color=\"violet\")\n",
    "print(\"Term Deposit, area under curve=\"+str(auc_score))\n",
    "plt.legend(loc=4)\n",
    "plt.xlabel(\"False Positive Rate \")\n",
    "plt.ylabel(\"True Positive Rate\")\n",
    "plt.title(\"ROC for predicting Deposits\")\n",
    "plt.show()"
   ]
  },
  {
   "cell_type": "code",
   "execution_count": 75,
   "id": "41def080",
   "metadata": {},
   "outputs": [
    {
     "name": "stdout",
     "output_type": "stream",
     "text": [
      "Naive Bayes\n",
      "Accuracy : 0.7663242518981688\n",
      "Precision : 0.21001344086021506\n",
      "Recall : 0.702247191011236\n",
      "F1 Score : 0.3233316088980859\n"
     ]
    }
   ],
   "source": [
    "from sklearn.naive_bayes import GaussianNB\n",
    "gnb = GaussianNB()\n",
    "gnb.fit(x_train, y_train)\n",
    "gnb_preds=gnb.predict(x_val)\n",
    "print('Naive Bayes')\n",
    "print('Accuracy : {}'.format(accuracy_score(y_val, gnb_preds)))\n",
    "print('Precision : {}'.format(precision_score(y_val, gnb_preds)))\n",
    "print('Recall : {}'.format(recall_score(y_val, gnb_preds)))\n",
    "print('F1 Score : {}'.format(f1_score(y_val, gnb_preds)))"
   ]
  },
  {
   "cell_type": "code",
   "execution_count": 99,
   "id": "60366ef1",
   "metadata": {},
   "outputs": [
    {
     "name": "stderr",
     "output_type": "stream",
     "text": [
      "No handles with labels found to put in legend.\n"
     ]
    },
    {
     "name": "stdout",
     "output_type": "stream",
     "text": [
      "Area under Curve(AUC)\n",
      "AUC: 0.8380691166609424\n",
      "\n",
      "Plot Receiver Operating Characteristic(ROC)\n",
      "Term Deposit, area under curve=0.8380691166609424\n"
     ]
    },
    {
     "data": {
      "image/png": "[encoded data removed]",
      "text/plain": [
       "<Figure size 144x72 with 1 Axes>"
      ]
     },
     "metadata": {
      "needs_background": "light"
     },
     "output_type": "display_data"
    }
   ],
   "source": [
    "print(\"Area under Curve(AUC)\")\n",
    "y_pred_proba = gnb.predict_proba(x_val)[::,1]\n",
    "fpr,tpr,_ = metrics.roc_curve(y_val,  y_pred_proba)\n",
    "\n",
    "auc_score = metrics.roc_auc_score(y_val, y_pred_proba)\n",
    "print('AUC:', auc_score)\n",
    "\n",
    "print(\"\\nPlot Receiver Operating Characteristic(ROC)\")\n",
    "plt.plot(fpr,tpr,color=\"violet\")\n",
    "print(\"Term Deposit, area under curve=\"+str(auc_score))\n",
    "plt.legend(loc=4)\n",
    "plt.xlabel(\"False Positive Rate \")\n",
    "plt.ylabel(\"True Positive Rate\")\n",
    "plt.title(\"ROC for predicting Deposits\")\n",
    "plt.show()"
   ]
  },
  {
   "cell_type": "code",
   "execution_count": 77,
   "id": "7e65ac7b",
   "metadata": {},
   "outputs": [
    {
     "name": "stdout",
     "output_type": "stream",
     "text": [
      "XG Boost\n",
      "Accuracy : 0.8945958016971862\n",
      "Precision : 0.3476890756302521\n",
      "Recall : 0.37191011235955057\n",
      "F1 Score : 0.3593919652551574\n"
     ]
    }
   ],
   "source": [
    "from sklearn.ensemble import GradientBoostingClassifier\n",
    "xgb = GradientBoostingClassifier(n_estimators=100, learning_rate=1.0,max_depth=1, random_state=0)\n",
    "xgb.fit(x_train, y_train)\n",
    "xgb_preds=xgb.predict(x_val)\n",
    "print('XG Boost')\n",
    "print('Accuracy : {}'.format(accuracy_score(y_val, xgb_preds)))\n",
    "print('Precision : {}'.format(precision_score(y_val, xgb_preds)))\n",
    "print('Recall : {}'.format(recall_score(y_val, xgb_preds)))\n",
    "print('F1 Score : {}'.format(f1_score(y_val, xgb_preds)))"
   ]
  },
  {
   "cell_type": "code",
   "execution_count": 100,
   "id": "933354e9",
   "metadata": {},
   "outputs": [
    {
     "name": "stderr",
     "output_type": "stream",
     "text": [
      "No handles with labels found to put in legend.\n"
     ]
    },
    {
     "name": "stdout",
     "output_type": "stream",
     "text": [
      "Area under Curve(AUC)\n",
      "AUC: 0.8129401566818768\n",
      "\n",
      "Plot Receiver Operating Characteristic(ROC)\n",
      "Term Deposit, area under curve=0.8129401566818768\n"
     ]
    },
    {
     "data": {
      "image/png": "[encoded data removed]",
      "text/plain": [
       "<Figure size 144x72 with 1 Axes>"
      ]
     },
     "metadata": {
      "needs_background": "light"
     },
     "output_type": "display_data"
    }
   ],
   "source": [
    "print(\"Area under Curve(AUC)\")\n",
    "y_pred_proba = xgb.predict_proba(x_val)[::,1]\n",
    "fpr,tpr,_ = metrics.roc_curve(y_val,  y_pred_proba)\n",
    "\n",
    "auc_score = metrics.roc_auc_score(y_val, y_pred_proba)\n",
    "print('AUC:', auc_score)\n",
    "\n",
    "print(\"\\nPlot Receiver Operating Characteristic(ROC)\")\n",
    "plt.plot(fpr,tpr,color=\"violet\")\n",
    "print(\"Term Deposit, area under curve=\"+str(auc_score))\n",
    "plt.legend(loc=4)\n",
    "plt.xlabel(\"False Positive Rate \")\n",
    "plt.ylabel(\"True Positive Rate\")\n",
    "plt.title(\"ROC for predicting Deposits\")\n",
    "plt.show()"
   ]
  },
  {
   "cell_type": "code",
   "execution_count": 79,
   "id": "c5c23168",
   "metadata": {},
   "outputs": [
    {
     "name": "stdout",
     "output_type": "stream",
     "text": [
      "Logistic Regression\n",
      "Accuracy : 0.9276462706565431\n",
      "Precision : 0.5858369098712446\n",
      "Recall : 0.30674157303370786\n",
      "F1 Score : 0.40265486725663713\n"
     ]
    },
    {
     "name": "stderr",
     "output_type": "stream",
     "text": [
      "C:\\Users\\Sriram\\anaconda3\\lib\\site-packages\\sklearn\\linear_model\\_logistic.py:763: ConvergenceWarning: lbfgs failed to converge (status=1):\n",
      "STOP: TOTAL NO. of ITERATIONS REACHED LIMIT.\n",
      "\n",
      "Increase the number of iterations (max_iter) or scale the data as shown in:\n",
      "    https://scikit-learn.org/stable/modules/preprocessing.html\n",
      "Please also refer to the documentation for alternative solver options:\n",
      "    https://scikit-learn.org/stable/modules/linear_model.html#logistic-regression\n",
      "  n_iter_i = _check_optimize_result(\n"
     ]
    }
   ],
   "source": [
    "from sklearn.linear_model import LogisticRegression\n",
    "lg = LogisticRegression(random_state=0,max_iter=600)\n",
    "lg.fit(x_train, y_train)\n",
    "lg_preds=lg.predict(x_val)\n",
    "print('Logistic Regression')\n",
    "print('Accuracy : {}'.format(accuracy_score(y_val, lg_preds)))\n",
    "print('Precision : {}'.format(precision_score(y_val, lg_preds)))\n",
    "print('Recall : {}'.format(recall_score(y_val, lg_preds)))\n",
    "print('F1 Score : {}'.format(f1_score(y_val, lg_preds)))"
   ]
  },
  {
   "cell_type": "code",
   "execution_count": 101,
   "id": "31ffa12e",
   "metadata": {},
   "outputs": [
    {
     "name": "stderr",
     "output_type": "stream",
     "text": [
      "No handles with labels found to put in legend.\n"
     ]
    },
    {
     "name": "stdout",
     "output_type": "stream",
     "text": [
      "Area under Curve(AUC)\n",
      "AUC: 0.9170733090187485\n",
      "\n",
      "Plot Receiver Operating Characteristic(ROC)\n",
      "Term Deposit, area under curve=0.9170733090187485\n"
     ]
    },
    {
     "data": {
      "image/png": "[encoded data removed]",
      "text/plain": [
       "<Figure size 144x72 with 1 Axes>"
      ]
     },
     "metadata": {
      "needs_background": "light"
     },
     "output_type": "display_data"
    }
   ],
   "source": [
    "print(\"Area under Curve(AUC)\")\n",
    "y_pred_proba = lg.predict_proba(x_val)[::,1]\n",
    "fpr,tpr,_ = metrics.roc_curve(y_val,  y_pred_proba)\n",
    "\n",
    "auc_score = metrics.roc_auc_score(y_val, y_pred_proba)\n",
    "print('AUC:', auc_score)\n",
    "\n",
    "print(\"\\nPlot Receiver Operating Characteristic(ROC)\")\n",
    "plt.plot(fpr,tpr,color=\"violet\")\n",
    "print(\"Term Deposit, area under curve=\"+str(auc_score))\n",
    "plt.legend(loc=4)\n",
    "plt.xlabel(\"False Positive Rate \")\n",
    "plt.ylabel(\"True Positive Rate\")\n",
    "plt.title(\"ROC for predicting Deposits\")\n",
    "plt.show()"
   ]
  },
  {
   "cell_type": "markdown",
   "id": "385a1632",
   "metadata": {},
   "source": [
    "# Confusion Matrix"
   ]
  },
  {
   "cell_type": "code",
   "execution_count": 102,
   "id": "d4a98cdb",
   "metadata": {},
   "outputs": [
    {
     "name": "stdout",
     "output_type": "stream",
     "text": [
      "Confusion Matrix Of KNeighbors :\n",
      " [[10093   212]\n",
      " [  593   297]]\n",
      "\n",
      "Confusion Matrix Of DecisionTree :\n",
      " [[9752  553]\n",
      " [ 497  393]]\n",
      "\n",
      "Confusion Matrix Of RandomForest :\n",
      " [[10095   210]\n",
      " [  545   345]]\n",
      "\n",
      "Confusion Matrix Of XGBoost :\n",
      " [[9684  621]\n",
      " [ 559  331]]\n",
      "\n",
      "Confusion Matrix Of NaiveBayes :\n",
      " [[7954 2351]\n",
      " [ 265  625]]\n",
      "\n",
      "Confusion Matrix Of LogisticRegression :\n",
      " [[10112   193]\n",
      " [  617   273]]\n"
     ]
    }
   ],
   "source": [
    "print('Confusion Matrix Of KNeighbors :\\n',(confusion_matrix(y_val,neigh_preds)))\n",
    "print()\n",
    "print('Confusion Matrix Of DecisionTree :\\n',(confusion_matrix(y_val,d_tree_preds)))\n",
    "print()\n",
    "print('Confusion Matrix Of RandomForest :\\n',(confusion_matrix(y_val,rf_preds)))\n",
    "print()\n",
    "print('Confusion Matrix Of XGBoost :\\n',(confusion_matrix(y_val,xgb_preds)))\n",
    "print()\n",
    "print('Confusion Matrix Of NaiveBayes :\\n',(confusion_matrix(y_val,gnb_preds)))\n",
    "print()\n",
    "print('Confusion Matrix Of LogisticRegression :\\n',(confusion_matrix(y_val,lg_preds)))"
   ]
  },
  {
   "cell_type": "markdown",
   "id": "b1ba2730",
   "metadata": {},
   "source": [
    "# Hyper Parameter Tuning (Random Forest)"
   ]
  },
  {
   "cell_type": "code",
   "execution_count": 82,
   "id": "0c579940",
   "metadata": {},
   "outputs": [
    {
     "name": "stdout",
     "output_type": "stream",
     "text": [
      "Random Forest\n",
      "Accuracy : 0.9300580616346583\n",
      "Precision : 0.5974499089253188\n",
      "Recall : 0.3685393258426966\n",
      "F1 Score : 0.45587213342599026\n"
     ]
    }
   ],
   "source": [
    "from sklearn.ensemble import RandomForestClassifier\n",
    "rf = RandomForestClassifier(max_depth=None, random_state=0,n_estimators=50)\n",
    "rf.fit(x_train, y_train)\n",
    "rf_preds=rf.predict(x_val)\n",
    "print('Random Forest')\n",
    "print('Accuracy : {}'.format(accuracy_score(y_val, rf_preds)))\n",
    "print('Precision : {}'.format(precision_score(y_val, rf_preds)))\n",
    "print('Recall : {}'.format(recall_score(y_val, rf_preds)))\n",
    "print('F1 Score : {}'.format(f1_score(y_val, rf_preds)))"
   ]
  },
  {
   "cell_type": "code",
   "execution_count": 83,
   "id": "531e4f7d",
   "metadata": {},
   "outputs": [
    {
     "name": "stdout",
     "output_type": "stream",
     "text": [
      "Random Forest\n",
      "Accuracy : 0.9311299687360429\n",
      "Precision : 0.609981515711645\n",
      "Recall : 0.3707865168539326\n",
      "F1 Score : 0.46121593291404617\n"
     ]
    }
   ],
   "source": [
    "from sklearn.ensemble import RandomForestClassifier\n",
    "rf = RandomForestClassifier(max_depth=None, random_state=0,n_estimators=150)\n",
    "rf.fit(x_train, y_train)\n",
    "rf_preds=rf.predict(x_val)\n",
    "print('Random Forest')\n",
    "print('Accuracy : {}'.format(accuracy_score(y_val, rf_preds)))\n",
    "print('Precision : {}'.format(precision_score(y_val, rf_preds)))\n",
    "print('Recall : {}'.format(recall_score(y_val, rf_preds)))\n",
    "print('F1 Score : {}'.format(f1_score(y_val, rf_preds)))"
   ]
  },
  {
   "cell_type": "code",
   "execution_count": 84,
   "id": "4afdf511",
   "metadata": {},
   "outputs": [
    {
     "name": "stdout",
     "output_type": "stream",
     "text": [
      "Random Forest\n",
      "Accuracy : 0.9321125502456454\n",
      "Precision : 0.6221804511278195\n",
      "Recall : 0.37191011235955057\n",
      "F1 Score : 0.46554149085794655\n"
     ]
    }
   ],
   "source": [
    "from sklearn.ensemble import RandomForestClassifier\n",
    "rf = RandomForestClassifier(max_depth=None, random_state=0,n_estimators=300,min_samples_split=10)\n",
    "rf.fit(x_train, y_train)\n",
    "rf_preds=rf.predict(x_val)\n",
    "print('Random Forest')\n",
    "print('Accuracy : {}'.format(accuracy_score(y_val, rf_preds)))\n",
    "print('Precision : {}'.format(precision_score(y_val, rf_preds)))\n",
    "print('Recall : {}'.format(recall_score(y_val, rf_preds)))\n",
    "print('F1 Score : {}'.format(f1_score(y_val, rf_preds)))"
   ]
  },
  {
   "cell_type": "code",
   "execution_count": 85,
   "id": "98e29b29",
   "metadata": {},
   "outputs": [
    {
     "name": "stdout",
     "output_type": "stream",
     "text": [
      "Random Forest\n",
      "Accuracy : 0.9320232246538633\n",
      "Precision : 0.6157989228007181\n",
      "Recall : 0.3853932584269663\n",
      "F1 Score : 0.4740843123704216\n"
     ]
    }
   ],
   "source": [
    "from sklearn.ensemble import RandomForestClassifier\n",
    "rf = RandomForestClassifier(max_depth=None, random_state=0,n_estimators=500,min_samples_split=2)\n",
    "rf.fit(x_train, y_train)\n",
    "rf_preds=rf.predict(x_val)\n",
    "print('Random Forest')\n",
    "print('Accuracy : {}'.format(accuracy_score(y_val, rf_preds)))\n",
    "print('Precision : {}'.format(precision_score(y_val, rf_preds)))\n",
    "print('Recall : {}'.format(recall_score(y_val, rf_preds)))\n",
    "print('F1 Score : {}'.format(f1_score(y_val, rf_preds)))"
   ]
  },
  {
   "cell_type": "code",
   "execution_count": 86,
   "id": "13e6902d",
   "metadata": {},
   "outputs": [
    {
     "name": "stdout",
     "output_type": "stream",
     "text": [
      "Random Forest\n",
      "Accuracy : 0.9325591782045556\n",
      "Precision : 0.6216216216216216\n",
      "Recall : 0.38764044943820225\n",
      "F1 Score : 0.4775086505190311\n"
     ]
    }
   ],
   "source": [
    "from sklearn.ensemble import RandomForestClassifier\n",
    "rf = RandomForestClassifier(max_depth=None, random_state=0,n_estimators=500,min_samples_split=4)\n",
    "rf.fit(x_train, y_train)\n",
    "rf_preds=rf.predict(x_val)\n",
    "print('Random Forest')\n",
    "print('Accuracy : {}'.format(accuracy_score(y_val, rf_preds)))\n",
    "print('Precision : {}'.format(precision_score(y_val, rf_preds)))\n",
    "print('Recall : {}'.format(recall_score(y_val, rf_preds)))\n",
    "print('F1 Score : {}'.format(f1_score(y_val, rf_preds)))"
   ]
  }
 ],
 "metadata": {
  "kernelspec": {
   "display_name": "Python 3 (ipykernel)",
   "language": "python",
   "name": "python3"
  },
  "language_info": {
   "codemirror_mode": {
    "name": "ipython",
    "version": 3
   },
   "file_extension": ".py",
   "mimetype": "text/x-python",
   "name": "python",
   "nbconvert_exporter": "python",
   "pygments_lexer": "ipython3",
   "version": "3.9.7"
  }
 },
 "nbformat": 4,
 "nbformat_minor": 5
}
